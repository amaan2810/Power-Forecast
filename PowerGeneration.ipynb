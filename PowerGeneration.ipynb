{
 "cells": [
  {
   "cell_type": "markdown",
   "metadata": {},
   "source": [
    "### -------------------Predict the generation of power for the duration: October 1st, 2019 to October 27th, 2019-----------------"
   ]
  },
  {
   "cell_type": "code",
   "execution_count": 1,
   "metadata": {},
   "outputs": [],
   "source": [
    "# Import the required libraries\n",
    "\n",
    "import pandas as pd\n",
    "import numpy as np\n",
    "import matplotlib.pyplot as plt\n",
    "%matplotlib inline\n",
    "import warnings\n",
    "warnings.filterwarnings('ignore')"
   ]
  },
  {
   "cell_type": "code",
   "execution_count": 2,
   "metadata": {},
   "outputs": [],
   "source": [
    "# Read all the data into different variables\n",
    "\n",
    "weather_actual = pd.read_csv('E:/Work/Amaan/Jobs/reapplicationforthepostofmachinelearningengineer/weather_actuals.csv',\n",
    "                            index_col=0)\n",
    "power = pd.read_csv('E:/Work/Amaan/Jobs/reapplicationforthepostofmachinelearningengineer/power_actual.csv', index_col=0)\n",
    "weather_forecast = pd.read_csv('E:/Work/Amaan/Jobs/reapplicationforthepostofmachinelearningengineer/weather_forecast.csv',\n",
    "                              index_col=0)"
   ]
  },
  {
   "cell_type": "code",
   "execution_count": 3,
   "metadata": {},
   "outputs": [
    {
     "data": {
      "text/html": [
       "<div>\n",
       "<style scoped>\n",
       "    .dataframe tbody tr th:only-of-type {\n",
       "        vertical-align: middle;\n",
       "    }\n",
       "\n",
       "    .dataframe tbody tr th {\n",
       "        vertical-align: top;\n",
       "    }\n",
       "\n",
       "    .dataframe thead th {\n",
       "        text-align: right;\n",
       "    }\n",
       "</style>\n",
       "<table border=\"1\" class=\"dataframe\">\n",
       "  <thead>\n",
       "    <tr style=\"text-align: right;\">\n",
       "      <th></th>\n",
       "      <th>plant_id</th>\n",
       "      <th>datetime_utc</th>\n",
       "      <th>datetime_local</th>\n",
       "      <th>cloud_cover</th>\n",
       "      <th>apparent_temperature</th>\n",
       "      <th>temperature</th>\n",
       "      <th>humidity</th>\n",
       "      <th>dew_point</th>\n",
       "      <th>wind_bearing</th>\n",
       "      <th>wind_speed</th>\n",
       "      <th>...</th>\n",
       "      <th>precip_accumulation</th>\n",
       "      <th>precip_intensity</th>\n",
       "      <th>precip_probability</th>\n",
       "      <th>precip_type</th>\n",
       "      <th>visibility</th>\n",
       "      <th>sunrise</th>\n",
       "      <th>sunset</th>\n",
       "      <th>icon</th>\n",
       "      <th>summary</th>\n",
       "      <th>updated_at</th>\n",
       "    </tr>\n",
       "  </thead>\n",
       "  <tbody>\n",
       "    <tr>\n",
       "      <td>0</td>\n",
       "      <td>1</td>\n",
       "      <td>2017-09-30 18:30:00</td>\n",
       "      <td>2017-10-01 00:00:00</td>\n",
       "      <td>0.0</td>\n",
       "      <td>26.52</td>\n",
       "      <td>26</td>\n",
       "      <td>1</td>\n",
       "      <td>19.46</td>\n",
       "      <td>308</td>\n",
       "      <td>0.83</td>\n",
       "      <td>...</td>\n",
       "      <td>-9999.0</td>\n",
       "      <td>-9999.0</td>\n",
       "      <td>-9999.0</td>\n",
       "      <td>rain</td>\n",
       "      <td>3.57</td>\n",
       "      <td>2017-10-01 00:52:02</td>\n",
       "      <td>2017-10-01 12:45:07</td>\n",
       "      <td>clear-night</td>\n",
       "      <td>Clear</td>\n",
       "      <td>2019-07-16 16:37:16</td>\n",
       "    </tr>\n",
       "    <tr>\n",
       "      <td>1</td>\n",
       "      <td>1</td>\n",
       "      <td>2017-09-30 19:30:00</td>\n",
       "      <td>2017-10-01 01:00:00</td>\n",
       "      <td>0.0</td>\n",
       "      <td>28.78</td>\n",
       "      <td>27</td>\n",
       "      <td>1</td>\n",
       "      <td>20.06</td>\n",
       "      <td>-9999</td>\n",
       "      <td>-9999.00</td>\n",
       "      <td>...</td>\n",
       "      <td>-9999.0</td>\n",
       "      <td>-9999.0</td>\n",
       "      <td>-9999.0</td>\n",
       "      <td>rain</td>\n",
       "      <td>3.06</td>\n",
       "      <td>2017-10-01 00:52:02</td>\n",
       "      <td>2017-10-01 12:45:07</td>\n",
       "      <td>fog</td>\n",
       "      <td>Foggy</td>\n",
       "      <td>2019-07-16 16:37:16</td>\n",
       "    </tr>\n",
       "    <tr>\n",
       "      <td>2</td>\n",
       "      <td>1</td>\n",
       "      <td>2017-09-30 20:30:00</td>\n",
       "      <td>2017-10-01 02:00:00</td>\n",
       "      <td>0.0</td>\n",
       "      <td>26.58</td>\n",
       "      <td>26</td>\n",
       "      <td>1</td>\n",
       "      <td>19.97</td>\n",
       "      <td>-9999</td>\n",
       "      <td>-9999.00</td>\n",
       "      <td>...</td>\n",
       "      <td>-9999.0</td>\n",
       "      <td>-9999.0</td>\n",
       "      <td>-9999.0</td>\n",
       "      <td>rain</td>\n",
       "      <td>3.06</td>\n",
       "      <td>2017-10-01 00:52:02</td>\n",
       "      <td>2017-10-01 12:45:07</td>\n",
       "      <td>fog</td>\n",
       "      <td>Foggy</td>\n",
       "      <td>2019-07-16 16:37:16</td>\n",
       "    </tr>\n",
       "  </tbody>\n",
       "</table>\n",
       "<p>3 rows × 30 columns</p>\n",
       "</div>"
      ],
      "text/plain": [
       "   plant_id         datetime_utc       datetime_local  cloud_cover  \\\n",
       "0         1  2017-09-30 18:30:00  2017-10-01 00:00:00          0.0   \n",
       "1         1  2017-09-30 19:30:00  2017-10-01 01:00:00          0.0   \n",
       "2         1  2017-09-30 20:30:00  2017-10-01 02:00:00          0.0   \n",
       "\n",
       "   apparent_temperature  temperature  humidity  dew_point  wind_bearing  \\\n",
       "0                 26.52           26         1      19.46           308   \n",
       "1                 28.78           27         1      20.06         -9999   \n",
       "2                 26.58           26         1      19.97         -9999   \n",
       "\n",
       "   wind_speed  ...  precip_accumulation  precip_intensity  precip_probability  \\\n",
       "0        0.83  ...              -9999.0           -9999.0             -9999.0   \n",
       "1    -9999.00  ...              -9999.0           -9999.0             -9999.0   \n",
       "2    -9999.00  ...              -9999.0           -9999.0             -9999.0   \n",
       "\n",
       "   precip_type  visibility              sunrise               sunset  \\\n",
       "0         rain        3.57  2017-10-01 00:52:02  2017-10-01 12:45:07   \n",
       "1         rain        3.06  2017-10-01 00:52:02  2017-10-01 12:45:07   \n",
       "2         rain        3.06  2017-10-01 00:52:02  2017-10-01 12:45:07   \n",
       "\n",
       "          icon  summary           updated_at  \n",
       "0  clear-night    Clear  2019-07-16 16:37:16  \n",
       "1          fog    Foggy  2019-07-16 16:37:16  \n",
       "2          fog    Foggy  2019-07-16 16:37:16  \n",
       "\n",
       "[3 rows x 30 columns]"
      ]
     },
     "execution_count": 3,
     "metadata": {},
     "output_type": "execute_result"
    }
   ],
   "source": [
    "weather_actual.head(3)"
   ]
  },
  {
   "cell_type": "code",
   "execution_count": 4,
   "metadata": {},
   "outputs": [
    {
     "data": {
      "text/plain": [
       "(13619, 30)"
      ]
     },
     "execution_count": 4,
     "metadata": {},
     "output_type": "execute_result"
    }
   ],
   "source": [
    "weather_actual.shape"
   ]
  },
  {
   "cell_type": "code",
   "execution_count": 5,
   "metadata": {},
   "outputs": [
    {
     "data": {
      "text/plain": [
       "plant_id                   0\n",
       "datetime_utc               0\n",
       "datetime_local             0\n",
       "cloud_cover                0\n",
       "apparent_temperature       0\n",
       "temperature                0\n",
       "humidity                   0\n",
       "dew_point                  0\n",
       "wind_bearing               0\n",
       "wind_speed                 0\n",
       "wind_chill              9875\n",
       "wind_gust                  0\n",
       "heat_index              9875\n",
       "pressure                   0\n",
       "qpf                     9875\n",
       "uv_index                   0\n",
       "snow                    9875\n",
       "pop                     9875\n",
       "fctcode                 9875\n",
       "ozone                      0\n",
       "precip_accumulation     9875\n",
       "precip_intensity           0\n",
       "precip_probability         0\n",
       "precip_type             7129\n",
       "visibility                 0\n",
       "sunrise                    0\n",
       "sunset                     0\n",
       "icon                       0\n",
       "summary                    0\n",
       "updated_at                 0\n",
       "dtype: int64"
      ]
     },
     "execution_count": 5,
     "metadata": {},
     "output_type": "execute_result"
    }
   ],
   "source": [
    "# Check for null values\n",
    "\n",
    "weather_actual.isna().sum()"
   ]
  },
  {
   "cell_type": "markdown",
   "metadata": {},
   "source": [
    "#### We cannot derive much information from \"plant_id\", \"updated_at\" & \"datetime_utc\", hence drop these columns\n",
    "#### \"wind_chill\", \"heat_index\", \"qpf\", \"snow\", \"pop\", \"fctcode\", \"precip_accumulation\" have around 72% missing values in weather_actual & 100% missing values in weather_forecast. Hence we need to drop them, as any imputation might create a biased model"
   ]
  },
  {
   "cell_type": "code",
   "execution_count": 6,
   "metadata": {},
   "outputs": [],
   "source": [
    "weather_actual = weather_actual.drop(['plant_id','updated_at','datetime_utc','wind_chill','heat_index','qpf','snow','pop',\n",
    "                                      'fctcode','precip_accumulation'], axis=1)"
   ]
  },
  {
   "cell_type": "code",
   "execution_count": 7,
   "metadata": {},
   "outputs": [
    {
     "data": {
      "text/plain": [
       "rain     6147\n",
       "-9999     343\n",
       "Name: precip_type, dtype: int64"
      ]
     },
     "execution_count": 7,
     "metadata": {},
     "output_type": "execute_result"
    }
   ],
   "source": [
    "weather_actual.precip_type.value_counts()"
   ]
  },
  {
   "cell_type": "markdown",
   "metadata": {},
   "source": [
    "#### \"precip_type\" has 7129 missing values, and no entry of \"no rain\". Hence we'll assume that missing values are \"no rain\" and impute them"
   ]
  },
  {
   "cell_type": "code",
   "execution_count": 8,
   "metadata": {},
   "outputs": [],
   "source": [
    "weather_actual['precip_type'] = weather_actual['precip_type'].fillna('no rain')"
   ]
  },
  {
   "cell_type": "code",
   "execution_count": 9,
   "metadata": {},
   "outputs": [
    {
     "data": {
      "text/plain": [
       "datetime_local          0\n",
       "cloud_cover             0\n",
       "apparent_temperature    0\n",
       "temperature             0\n",
       "humidity                0\n",
       "dew_point               0\n",
       "wind_bearing            0\n",
       "wind_speed              0\n",
       "wind_gust               0\n",
       "pressure                0\n",
       "uv_index                0\n",
       "ozone                   0\n",
       "precip_intensity        0\n",
       "precip_probability      0\n",
       "precip_type             0\n",
       "visibility              0\n",
       "sunrise                 0\n",
       "sunset                  0\n",
       "icon                    0\n",
       "summary                 0\n",
       "dtype: int64"
      ]
     },
     "execution_count": 9,
     "metadata": {},
     "output_type": "execute_result"
    }
   ],
   "source": [
    "# Now confirm that there are no more missing values\n",
    "\n",
    "weather_actual.isna().sum()"
   ]
  },
  {
   "cell_type": "markdown",
   "metadata": {},
   "source": [
    "#### \"sunrise\" & \"sunset\" have dates and times, out of which only time seems to be relevant information for our model. Hence we'll extract hours and minutes, and drop \"sunrise\" & \"sunset\""
   ]
  },
  {
   "cell_type": "code",
   "execution_count": 10,
   "metadata": {},
   "outputs": [],
   "source": [
    "weather_actual['sunrise'] = pd.to_datetime(weather_actual['sunrise'])\n",
    "weather_actual['sunset'] = pd.to_datetime(weather_actual['sunset'])"
   ]
  },
  {
   "cell_type": "code",
   "execution_count": 11,
   "metadata": {},
   "outputs": [],
   "source": [
    "weather_actual['sunrise_hour'] = weather_actual['sunrise'].dt.hour\n",
    "weather_actual['sunrise_minute'] = weather_actual['sunrise'].dt.minute\n",
    "weather_actual['sunset_hour'] = weather_actual['sunset'].dt.hour\n",
    "weather_actual['sunset_minute'] = weather_actual['sunset'].dt.minute"
   ]
  },
  {
   "cell_type": "code",
   "execution_count": 12,
   "metadata": {},
   "outputs": [],
   "source": [
    "weather_actual = weather_actual.drop(['sunrise','sunset'], axis=1)"
   ]
  },
  {
   "cell_type": "markdown",
   "metadata": {},
   "source": [
    "#### There seems to be a data entry error in most of the columns of the weather_actual as \"-9999\", which does not seem to be a valid entry relative to the other entries of the columns\n",
    "#### Hence we need to replace \"-9999\" with some relevant data"
   ]
  },
  {
   "cell_type": "code",
   "execution_count": 13,
   "metadata": {},
   "outputs": [],
   "source": [
    "# We'll replace \"-9999\" with \"rain\" (No reason, just a judgement call)\n",
    "\n",
    "weather_actual['precip_type'] = weather_actual['precip_type'].replace(\"-9999\",\"rain\")"
   ]
  },
  {
   "cell_type": "code",
   "execution_count": 14,
   "metadata": {},
   "outputs": [
    {
     "data": {
      "text/plain": [
       " 0.00       6528\n",
       " 1.00        556\n",
       "-9999.00     428\n",
       " 0.01        371\n",
       " 0.03        206\n",
       "            ... \n",
       " 0.77         34\n",
       " 0.52         32\n",
       " 0.58         31\n",
       " 0.73         29\n",
       " 0.47         27\n",
       "Name: cloud_cover, Length: 102, dtype: int64"
      ]
     },
     "execution_count": 14,
     "metadata": {},
     "output_type": "execute_result"
    }
   ],
   "source": [
    "weather_actual.cloud_cover.value_counts()"
   ]
  },
  {
   "cell_type": "code",
   "execution_count": 15,
   "metadata": {},
   "outputs": [
    {
     "data": {
      "text/plain": [
       "0.0"
      ]
     },
     "execution_count": 15,
     "metadata": {},
     "output_type": "execute_result"
    }
   ],
   "source": [
    "weather_actual.cloud_cover.median()"
   ]
  },
  {
   "cell_type": "code",
   "execution_count": 16,
   "metadata": {},
   "outputs": [],
   "source": [
    "# We'll replace \"-9999.00\" with the median \"0.0\"\n",
    "\n",
    "weather_actual['cloud_cover'] = weather_actual['cloud_cover'].replace(-9999.00, weather_actual['cloud_cover'].median())"
   ]
  },
  {
   "cell_type": "code",
   "execution_count": 17,
   "metadata": {},
   "outputs": [
    {
     "data": {
      "text/plain": [
       "-9999    919\n",
       " 270     200\n",
       " 260     182\n",
       " 320     181\n",
       " 280     175\n",
       "        ... \n",
       " 199       7\n",
       " 211       7\n",
       " 227       7\n",
       " 175       7\n",
       " 202       6\n",
       "Name: wind_bearing, Length: 361, dtype: int64"
      ]
     },
     "execution_count": 17,
     "metadata": {},
     "output_type": "execute_result"
    }
   ],
   "source": [
    "weather_actual.wind_bearing.value_counts()"
   ]
  },
  {
   "cell_type": "code",
   "execution_count": 18,
   "metadata": {},
   "outputs": [
    {
     "data": {
      "text/plain": [
       "-498.6773625082605"
      ]
     },
     "execution_count": 18,
     "metadata": {},
     "output_type": "execute_result"
    }
   ],
   "source": [
    "weather_actual.wind_bearing.mean()"
   ]
  },
  {
   "cell_type": "code",
   "execution_count": 19,
   "metadata": {},
   "outputs": [
    {
     "data": {
      "text/plain": [
       "149.0"
      ]
     },
     "execution_count": 19,
     "metadata": {},
     "output_type": "execute_result"
    }
   ],
   "source": [
    "weather_actual.wind_bearing.median()"
   ]
  },
  {
   "cell_type": "code",
   "execution_count": 26,
   "metadata": {},
   "outputs": [
    {
     "data": {
      "text/plain": [
       "0.10     14.0\n",
       "0.25     79.0\n",
       "0.75    293.0\n",
       "1.00    359.0\n",
       "Name: wind_bearing, dtype: float64"
      ]
     },
     "execution_count": 26,
     "metadata": {},
     "output_type": "execute_result"
    }
   ],
   "source": [
    "weather_actual.wind_bearing.quantile([0.1,0.25,0.75,1])"
   ]
  },
  {
   "cell_type": "code",
   "execution_count": 27,
   "metadata": {},
   "outputs": [],
   "source": [
    "# We'll replace \"-9999\" with the median \"149\"\n",
    "\n",
    "weather_actual['wind_bearing'] = weather_actual['wind_bearing'].replace(-9999, weather_actual['wind_bearing'].median())"
   ]
  },
  {
   "cell_type": "code",
   "execution_count": 28,
   "metadata": {},
   "outputs": [
    {
     "data": {
      "text/plain": [
       "-9999.00    740\n",
       " 2.24       385\n",
       " 2.68       295\n",
       " 1.34       261\n",
       " 3.13       209\n",
       "           ... \n",
       " 6.58         1\n",
       " 7.18         1\n",
       " 6.51         1\n",
       " 8.64         1\n",
       " 6.78         1\n",
       "Name: wind_speed, Length: 699, dtype: int64"
      ]
     },
     "execution_count": 28,
     "metadata": {},
     "output_type": "execute_result"
    }
   ],
   "source": [
    "weather_actual.wind_speed.value_counts()"
   ]
  },
  {
   "cell_type": "code",
   "execution_count": 29,
   "metadata": {},
   "outputs": [
    {
     "data": {
      "text/plain": [
       "2.41"
      ]
     },
     "execution_count": 29,
     "metadata": {},
     "output_type": "execute_result"
    }
   ],
   "source": [
    "weather_actual.wind_speed.median()"
   ]
  },
  {
   "cell_type": "code",
   "execution_count": 30,
   "metadata": {},
   "outputs": [
    {
     "data": {
      "text/plain": [
       "0.10    0.61\n",
       "0.25    1.62\n",
       "0.75    3.33\n",
       "1.00    9.73\n",
       "Name: wind_speed, dtype: float64"
      ]
     },
     "execution_count": 30,
     "metadata": {},
     "output_type": "execute_result"
    }
   ],
   "source": [
    "weather_actual.wind_speed.quantile([0.1,0.25,0.75,1])"
   ]
  },
  {
   "cell_type": "code",
   "execution_count": 31,
   "metadata": {},
   "outputs": [],
   "source": [
    "# We'll replace \"-9999.00\" with the median \"2.41\"\n",
    "\n",
    "weather_actual['wind_speed'] = weather_actual['wind_speed'].replace(-9999.00, weather_actual['wind_speed'].median())"
   ]
  },
  {
   "cell_type": "code",
   "execution_count": 32,
   "metadata": {},
   "outputs": [
    {
     "data": {
      "text/plain": [
       "-9999.00    3264\n",
       " 3.79         37\n",
       " 3.15         36\n",
       " 3.29         36\n",
       " 2.91         35\n",
       "            ... \n",
       " 12.52         1\n",
       " 8.41          1\n",
       " 11.16         1\n",
       " 12.98         1\n",
       " 8.40          1\n",
       "Name: wind_gust, Length: 1067, dtype: int64"
      ]
     },
     "execution_count": 32,
     "metadata": {},
     "output_type": "execute_result"
    }
   ],
   "source": [
    "weather_actual.wind_gust.value_counts()"
   ]
  },
  {
   "cell_type": "code",
   "execution_count": 33,
   "metadata": {},
   "outputs": [
    {
     "data": {
      "text/plain": [
       "3.07"
      ]
     },
     "execution_count": 33,
     "metadata": {},
     "output_type": "execute_result"
    }
   ],
   "source": [
    "weather_actual.wind_gust.median()"
   ]
  },
  {
   "cell_type": "code",
   "execution_count": 34,
   "metadata": {},
   "outputs": [
    {
     "data": {
      "text/plain": [
       "0.10   -9999.000\n",
       "0.25       1.185\n",
       "0.75       4.710\n",
       "1.00      15.150\n",
       "Name: wind_gust, dtype: float64"
      ]
     },
     "execution_count": 34,
     "metadata": {},
     "output_type": "execute_result"
    }
   ],
   "source": [
    "weather_actual.wind_gust.quantile([0.1,0.25,0.75,1])"
   ]
  },
  {
   "cell_type": "code",
   "execution_count": 35,
   "metadata": {},
   "outputs": [],
   "source": [
    "# We'll replace \"-9999.000\" with median \"3.07\"\n",
    "\n",
    "weather_actual['wind_gust'] = weather_actual['wind_gust'].replace(-9999.000, weather_actual['wind_gust'].median())"
   ]
  },
  {
   "cell_type": "code",
   "execution_count": 36,
   "metadata": {},
   "outputs": [
    {
     "data": {
      "text/plain": [
       "-9999.00    2156\n",
       " 1015.32      15\n",
       " 1013.41      14\n",
       " 1015.37      13\n",
       " 1014.74      13\n",
       "            ... \n",
       " 995.74        1\n",
       " 996.76        1\n",
       " 1021.43       1\n",
       " 996.70        1\n",
       " 997.94        1\n",
       "Name: pressure, Length: 2919, dtype: int64"
      ]
     },
     "execution_count": 36,
     "metadata": {},
     "output_type": "execute_result"
    }
   ],
   "source": [
    "weather_actual.pressure.value_counts()"
   ]
  },
  {
   "cell_type": "code",
   "execution_count": 38,
   "metadata": {},
   "outputs": [
    {
     "data": {
      "text/plain": [
       "1006.9"
      ]
     },
     "execution_count": 38,
     "metadata": {},
     "output_type": "execute_result"
    }
   ],
   "source": [
    "weather_actual.pressure.median()"
   ]
  },
  {
   "cell_type": "code",
   "execution_count": 39,
   "metadata": {},
   "outputs": [
    {
     "data": {
      "text/plain": [
       "0.10   -9999.00\n",
       "0.25     998.75\n",
       "0.75    1014.74\n",
       "1.00    1025.69\n",
       "Name: pressure, dtype: float64"
      ]
     },
     "execution_count": 39,
     "metadata": {},
     "output_type": "execute_result"
    }
   ],
   "source": [
    "weather_actual.pressure.quantile([0.1,0.25,0.75,1])"
   ]
  },
  {
   "cell_type": "code",
   "execution_count": 40,
   "metadata": {},
   "outputs": [],
   "source": [
    "# We'll replace \"-9999.00\" with median \"1006.9\"\n",
    "\n",
    "weather_actual['pressure'] = weather_actual['pressure'].replace(-9999.00, weather_actual['pressure'].median())"
   ]
  },
  {
   "cell_type": "code",
   "execution_count": 41,
   "metadata": {},
   "outputs": [
    {
     "data": {
      "text/plain": [
       " 0       6141\n",
       "-9999    3264\n",
       " 1        710\n",
       " 2        574\n",
       " 5        566\n",
       " 4        528\n",
       " 3        440\n",
       " 6        351\n",
       " 7        287\n",
       " 8        257\n",
       " 10       175\n",
       " 9        162\n",
       " 11        90\n",
       " 12        74\n",
       "Name: uv_index, dtype: int64"
      ]
     },
     "execution_count": 41,
     "metadata": {},
     "output_type": "execute_result"
    }
   ],
   "source": [
    "weather_actual.uv_index.value_counts()"
   ]
  },
  {
   "cell_type": "code",
   "execution_count": 42,
   "metadata": {},
   "outputs": [
    {
     "data": {
      "text/plain": [
       "0.0"
      ]
     },
     "execution_count": 42,
     "metadata": {},
     "output_type": "execute_result"
    }
   ],
   "source": [
    "weather_actual.uv_index.median()"
   ]
  },
  {
   "cell_type": "code",
   "execution_count": 43,
   "metadata": {},
   "outputs": [],
   "source": [
    "# We'll replace \"-9999\" with median \"0\"\n",
    "\n",
    "weather_actual['uv_index'] = weather_actual['uv_index'].replace(-9999, weather_actual['uv_index'].median())"
   ]
  },
  {
   "cell_type": "code",
   "execution_count": 44,
   "metadata": {},
   "outputs": [
    {
     "data": {
      "text/plain": [
       "-9999.00    3264\n",
       " 272.10       52\n",
       " 274.30       50\n",
       " 277.70       48\n",
       " 274.60       45\n",
       "            ... \n",
       " 296.89        1\n",
       " 233.60        1\n",
       " 279.55        1\n",
       " 294.45        1\n",
       " 317.10        1\n",
       "Name: ozone, Length: 1262, dtype: int64"
      ]
     },
     "execution_count": 44,
     "metadata": {},
     "output_type": "execute_result"
    }
   ],
   "source": [
    "weather_actual.ozone.value_counts()"
   ]
  },
  {
   "cell_type": "code",
   "execution_count": 45,
   "metadata": {},
   "outputs": [
    {
     "data": {
      "text/plain": [
       "270.8"
      ]
     },
     "execution_count": 45,
     "metadata": {},
     "output_type": "execute_result"
    }
   ],
   "source": [
    "weather_actual.ozone.median()"
   ]
  },
  {
   "cell_type": "code",
   "execution_count": 46,
   "metadata": {},
   "outputs": [
    {
     "data": {
      "text/plain": [
       "0.10   -9999.0\n",
       "0.25     236.9\n",
       "0.75     280.8\n",
       "1.00     351.7\n",
       "Name: ozone, dtype: float64"
      ]
     },
     "execution_count": 46,
     "metadata": {},
     "output_type": "execute_result"
    }
   ],
   "source": [
    "weather_actual.ozone.quantile([0.1,0.25,0.75,1])"
   ]
  },
  {
   "cell_type": "code",
   "execution_count": 47,
   "metadata": {},
   "outputs": [],
   "source": [
    "# We'll replace \"-9999.0\" with median \"270.8\"\n",
    "\n",
    "weather_actual['ozone'] = weather_actual['ozone'].replace(-9999.0, weather_actual['ozone'].median())"
   ]
  },
  {
   "cell_type": "code",
   "execution_count": 48,
   "metadata": {},
   "outputs": [
    {
     "data": {
      "text/plain": [
       " 0.00       7574\n",
       "-9999.00    3264\n",
       " 0.01        604\n",
       " 0.02        292\n",
       " 0.03        179\n",
       "            ... \n",
       " 5.45          1\n",
       " 1.62          1\n",
       " 2.72          1\n",
       " 5.89          1\n",
       " 1.47          1\n",
       "Name: precip_intensity, Length: 180, dtype: int64"
      ]
     },
     "execution_count": 48,
     "metadata": {},
     "output_type": "execute_result"
    }
   ],
   "source": [
    "weather_actual.precip_intensity.value_counts()"
   ]
  },
  {
   "cell_type": "code",
   "execution_count": 49,
   "metadata": {},
   "outputs": [
    {
     "data": {
      "text/plain": [
       "0.0"
      ]
     },
     "execution_count": 49,
     "metadata": {},
     "output_type": "execute_result"
    }
   ],
   "source": [
    "weather_actual.precip_intensity.median()"
   ]
  },
  {
   "cell_type": "code",
   "execution_count": 50,
   "metadata": {},
   "outputs": [],
   "source": [
    "# We'll replace \"-9999.00\" by median \"0.0\"\n",
    "\n",
    "weather_actual['precip_intensity'] = weather_actual['precip_intensity'].replace(-9999.00, weather_actual['precip_intensity'].median())"
   ]
  },
  {
   "cell_type": "code",
   "execution_count": 51,
   "metadata": {},
   "outputs": [
    {
     "data": {
      "text/plain": [
       " 0.00       7472\n",
       "-9999.00    3264\n",
       " 0.01        727\n",
       " 0.02        414\n",
       " 0.03        317\n",
       "            ... \n",
       " 0.53          1\n",
       " 0.46          1\n",
       " 0.67          1\n",
       " 0.60          1\n",
       " 0.59          1\n",
       "Name: precip_probability, Length: 66, dtype: int64"
      ]
     },
     "execution_count": 51,
     "metadata": {},
     "output_type": "execute_result"
    }
   ],
   "source": [
    "weather_actual.precip_probability.value_counts()"
   ]
  },
  {
   "cell_type": "code",
   "execution_count": 52,
   "metadata": {},
   "outputs": [
    {
     "data": {
      "text/plain": [
       "0.0"
      ]
     },
     "execution_count": 52,
     "metadata": {},
     "output_type": "execute_result"
    }
   ],
   "source": [
    "weather_actual.precip_probability.median()"
   ]
  },
  {
   "cell_type": "code",
   "execution_count": 53,
   "metadata": {},
   "outputs": [],
   "source": [
    "# We'll replace \"-9999.00\" with median \"0.0\"\n",
    "\n",
    "weather_actual['precip_probability'] = weather_actual['precip_probability'].replace(-9999.00, weather_actual['precip_probability'].median())"
   ]
  },
  {
   "cell_type": "markdown",
   "metadata": {},
   "source": [
    "#### Now let us check the power table"
   ]
  },
  {
   "cell_type": "code",
   "execution_count": 54,
   "metadata": {},
   "outputs": [
    {
     "data": {
      "text/plain": [
       "(70080, 4)"
      ]
     },
     "execution_count": 54,
     "metadata": {},
     "output_type": "execute_result"
    }
   ],
   "source": [
    "power.shape"
   ]
  },
  {
   "cell_type": "code",
   "execution_count": 55,
   "metadata": {},
   "outputs": [
    {
     "data": {
      "text/plain": [
       "datetime        0\n",
       "ghi         35040\n",
       "gti         35040\n",
       "power           0\n",
       "dtype: int64"
      ]
     },
     "execution_count": 55,
     "metadata": {},
     "output_type": "execute_result"
    }
   ],
   "source": [
    "power.isna().sum()"
   ]
  },
  {
   "cell_type": "markdown",
   "metadata": {},
   "source": [
    "#### drop \"ghi\" & \"gti\" as it contains 50% missing values and 50% \"0\", and hence we cannot extract relevant information from it"
   ]
  },
  {
   "cell_type": "code",
   "execution_count": 56,
   "metadata": {},
   "outputs": [],
   "source": [
    "power = power.drop(['ghi','gti'], axis=1)"
   ]
  },
  {
   "cell_type": "code",
   "execution_count": 57,
   "metadata": {},
   "outputs": [
    {
     "data": {
      "text/plain": [
       "Index(['datetime', 'power'], dtype='object')"
      ]
     },
     "execution_count": 57,
     "metadata": {},
     "output_type": "execute_result"
    }
   ],
   "source": [
    "power.columns"
   ]
  },
  {
   "cell_type": "code",
   "execution_count": 58,
   "metadata": {},
   "outputs": [],
   "source": [
    "# Rename \"datetime\" to \"datetime_local\" becasue we need to join this table with weather_actual, so both need to have a common variable\n",
    "\n",
    "power = power.rename(columns = {'datetime':'datetime_local'})"
   ]
  },
  {
   "cell_type": "markdown",
   "metadata": {},
   "source": [
    "#### We'll use inner join to merge the tables because power has datetime values for every 15 minute and weather_actual has values for every hour. By using inner join we'll get values for every hour."
   ]
  },
  {
   "cell_type": "code",
   "execution_count": 60,
   "metadata": {},
   "outputs": [],
   "source": [
    "power_actual = pd.merge(weather_actual, power, on='datetime_local', how='inner')"
   ]
  },
  {
   "cell_type": "code",
   "execution_count": 61,
   "metadata": {
    "scrolled": true
   },
   "outputs": [
    {
     "data": {
      "text/plain": [
       "(13619, 23)"
      ]
     },
     "execution_count": 61,
     "metadata": {},
     "output_type": "execute_result"
    }
   ],
   "source": [
    "power_actual.shape"
   ]
  },
  {
   "cell_type": "code",
   "execution_count": 62,
   "metadata": {
    "scrolled": true
   },
   "outputs": [
    {
     "data": {
      "text/html": [
       "<div>\n",
       "<style scoped>\n",
       "    .dataframe tbody tr th:only-of-type {\n",
       "        vertical-align: middle;\n",
       "    }\n",
       "\n",
       "    .dataframe tbody tr th {\n",
       "        vertical-align: top;\n",
       "    }\n",
       "\n",
       "    .dataframe thead th {\n",
       "        text-align: right;\n",
       "    }\n",
       "</style>\n",
       "<table border=\"1\" class=\"dataframe\">\n",
       "  <thead>\n",
       "    <tr style=\"text-align: right;\">\n",
       "      <th></th>\n",
       "      <th>datetime_local</th>\n",
       "      <th>cloud_cover</th>\n",
       "      <th>apparent_temperature</th>\n",
       "      <th>temperature</th>\n",
       "      <th>humidity</th>\n",
       "      <th>dew_point</th>\n",
       "      <th>wind_bearing</th>\n",
       "      <th>wind_speed</th>\n",
       "      <th>wind_gust</th>\n",
       "      <th>pressure</th>\n",
       "      <th>...</th>\n",
       "      <th>precip_probability</th>\n",
       "      <th>precip_type</th>\n",
       "      <th>visibility</th>\n",
       "      <th>icon</th>\n",
       "      <th>summary</th>\n",
       "      <th>sunrise_hour</th>\n",
       "      <th>sunrise_minute</th>\n",
       "      <th>sunset_hour</th>\n",
       "      <th>sunset_minute</th>\n",
       "      <th>power</th>\n",
       "    </tr>\n",
       "  </thead>\n",
       "  <tbody>\n",
       "    <tr>\n",
       "      <td>0</td>\n",
       "      <td>2017-10-01 00:00:00</td>\n",
       "      <td>0.0</td>\n",
       "      <td>26.52</td>\n",
       "      <td>26</td>\n",
       "      <td>1</td>\n",
       "      <td>19.46</td>\n",
       "      <td>308</td>\n",
       "      <td>0.83</td>\n",
       "      <td>3.07</td>\n",
       "      <td>1007.9</td>\n",
       "      <td>...</td>\n",
       "      <td>0.0</td>\n",
       "      <td>rain</td>\n",
       "      <td>3.57</td>\n",
       "      <td>clear-night</td>\n",
       "      <td>Clear</td>\n",
       "      <td>0</td>\n",
       "      <td>52</td>\n",
       "      <td>12</td>\n",
       "      <td>45</td>\n",
       "      <td>0.0</td>\n",
       "    </tr>\n",
       "    <tr>\n",
       "      <td>1</td>\n",
       "      <td>2017-10-01 01:00:00</td>\n",
       "      <td>0.0</td>\n",
       "      <td>28.78</td>\n",
       "      <td>27</td>\n",
       "      <td>1</td>\n",
       "      <td>20.06</td>\n",
       "      <td>149</td>\n",
       "      <td>2.41</td>\n",
       "      <td>3.07</td>\n",
       "      <td>1006.9</td>\n",
       "      <td>...</td>\n",
       "      <td>0.0</td>\n",
       "      <td>rain</td>\n",
       "      <td>3.06</td>\n",
       "      <td>fog</td>\n",
       "      <td>Foggy</td>\n",
       "      <td>0</td>\n",
       "      <td>52</td>\n",
       "      <td>12</td>\n",
       "      <td>45</td>\n",
       "      <td>0.0</td>\n",
       "    </tr>\n",
       "    <tr>\n",
       "      <td>2</td>\n",
       "      <td>2017-10-01 02:00:00</td>\n",
       "      <td>0.0</td>\n",
       "      <td>26.58</td>\n",
       "      <td>26</td>\n",
       "      <td>1</td>\n",
       "      <td>19.97</td>\n",
       "      <td>149</td>\n",
       "      <td>2.41</td>\n",
       "      <td>3.07</td>\n",
       "      <td>1006.9</td>\n",
       "      <td>...</td>\n",
       "      <td>0.0</td>\n",
       "      <td>rain</td>\n",
       "      <td>3.06</td>\n",
       "      <td>fog</td>\n",
       "      <td>Foggy</td>\n",
       "      <td>0</td>\n",
       "      <td>52</td>\n",
       "      <td>12</td>\n",
       "      <td>45</td>\n",
       "      <td>0.0</td>\n",
       "    </tr>\n",
       "  </tbody>\n",
       "</table>\n",
       "<p>3 rows × 23 columns</p>\n",
       "</div>"
      ],
      "text/plain": [
       "        datetime_local  cloud_cover  apparent_temperature  temperature  \\\n",
       "0  2017-10-01 00:00:00          0.0                 26.52           26   \n",
       "1  2017-10-01 01:00:00          0.0                 28.78           27   \n",
       "2  2017-10-01 02:00:00          0.0                 26.58           26   \n",
       "\n",
       "   humidity  dew_point  wind_bearing  wind_speed  wind_gust  pressure  ...  \\\n",
       "0         1      19.46           308        0.83       3.07    1007.9  ...   \n",
       "1         1      20.06           149        2.41       3.07    1006.9  ...   \n",
       "2         1      19.97           149        2.41       3.07    1006.9  ...   \n",
       "\n",
       "   precip_probability  precip_type  visibility         icon summary  \\\n",
       "0                 0.0         rain        3.57  clear-night   Clear   \n",
       "1                 0.0         rain        3.06          fog   Foggy   \n",
       "2                 0.0         rain        3.06          fog   Foggy   \n",
       "\n",
       "   sunrise_hour sunrise_minute sunset_hour  sunset_minute  power  \n",
       "0             0             52          12             45    0.0  \n",
       "1             0             52          12             45    0.0  \n",
       "2             0             52          12             45    0.0  \n",
       "\n",
       "[3 rows x 23 columns]"
      ]
     },
     "execution_count": 62,
     "metadata": {},
     "output_type": "execute_result"
    }
   ],
   "source": [
    "power_actual.head(3)"
   ]
  },
  {
   "cell_type": "markdown",
   "metadata": {},
   "source": [
    "#### We'll divide the numerical & categorical columns, and apply scaling and label encoding on them respectively"
   ]
  },
  {
   "cell_type": "code",
   "execution_count": 63,
   "metadata": {},
   "outputs": [
    {
     "data": {
      "text/plain": [
       "Index(['datetime_local', 'cloud_cover', 'apparent_temperature', 'temperature',\n",
       "       'humidity', 'dew_point', 'wind_bearing', 'wind_speed', 'wind_gust',\n",
       "       'pressure', 'uv_index', 'ozone', 'precip_intensity',\n",
       "       'precip_probability', 'precip_type', 'visibility', 'icon', 'summary',\n",
       "       'sunrise_hour', 'sunrise_minute', 'sunset_hour', 'sunset_minute',\n",
       "       'power'],\n",
       "      dtype='object')"
      ]
     },
     "execution_count": 63,
     "metadata": {},
     "output_type": "execute_result"
    }
   ],
   "source": [
    "power_actual.columns"
   ]
  },
  {
   "cell_type": "code",
   "execution_count": 64,
   "metadata": {},
   "outputs": [],
   "source": [
    "numeric_columns = power_actual[['cloud_cover', 'apparent_temperature', 'temperature', 'dew_point', 'wind_bearing', 'wind_speed',\n",
    "                                'wind_gust', 'pressure', 'uv_index', 'ozone', 'precip_intensity', 'precip_probability',\n",
    "                                'visibility', 'sunrise_hour', 'sunrise_minute', 'sunset_hour', 'sunset_minute']]"
   ]
  },
  {
   "cell_type": "code",
   "execution_count": 65,
   "metadata": {},
   "outputs": [
    {
     "data": {
      "text/html": [
       "<div>\n",
       "<style scoped>\n",
       "    .dataframe tbody tr th:only-of-type {\n",
       "        vertical-align: middle;\n",
       "    }\n",
       "\n",
       "    .dataframe tbody tr th {\n",
       "        vertical-align: top;\n",
       "    }\n",
       "\n",
       "    .dataframe thead th {\n",
       "        text-align: right;\n",
       "    }\n",
       "</style>\n",
       "<table border=\"1\" class=\"dataframe\">\n",
       "  <thead>\n",
       "    <tr style=\"text-align: right;\">\n",
       "      <th></th>\n",
       "      <th>cloud_cover</th>\n",
       "      <th>apparent_temperature</th>\n",
       "      <th>temperature</th>\n",
       "      <th>dew_point</th>\n",
       "      <th>wind_bearing</th>\n",
       "      <th>wind_speed</th>\n",
       "      <th>wind_gust</th>\n",
       "      <th>pressure</th>\n",
       "      <th>uv_index</th>\n",
       "      <th>ozone</th>\n",
       "      <th>precip_intensity</th>\n",
       "      <th>precip_probability</th>\n",
       "      <th>visibility</th>\n",
       "      <th>sunrise_hour</th>\n",
       "      <th>sunrise_minute</th>\n",
       "      <th>sunset_hour</th>\n",
       "      <th>sunset_minute</th>\n",
       "    </tr>\n",
       "  </thead>\n",
       "  <tbody>\n",
       "    <tr>\n",
       "      <td>0</td>\n",
       "      <td>0.0</td>\n",
       "      <td>26.52</td>\n",
       "      <td>26</td>\n",
       "      <td>19.46</td>\n",
       "      <td>308</td>\n",
       "      <td>0.83</td>\n",
       "      <td>3.07</td>\n",
       "      <td>1007.9</td>\n",
       "      <td>0</td>\n",
       "      <td>270.8</td>\n",
       "      <td>0.0</td>\n",
       "      <td>0.0</td>\n",
       "      <td>3.57</td>\n",
       "      <td>0</td>\n",
       "      <td>52</td>\n",
       "      <td>12</td>\n",
       "      <td>45</td>\n",
       "    </tr>\n",
       "    <tr>\n",
       "      <td>1</td>\n",
       "      <td>0.0</td>\n",
       "      <td>28.78</td>\n",
       "      <td>27</td>\n",
       "      <td>20.06</td>\n",
       "      <td>149</td>\n",
       "      <td>2.41</td>\n",
       "      <td>3.07</td>\n",
       "      <td>1006.9</td>\n",
       "      <td>0</td>\n",
       "      <td>270.8</td>\n",
       "      <td>0.0</td>\n",
       "      <td>0.0</td>\n",
       "      <td>3.06</td>\n",
       "      <td>0</td>\n",
       "      <td>52</td>\n",
       "      <td>12</td>\n",
       "      <td>45</td>\n",
       "    </tr>\n",
       "    <tr>\n",
       "      <td>2</td>\n",
       "      <td>0.0</td>\n",
       "      <td>26.58</td>\n",
       "      <td>26</td>\n",
       "      <td>19.97</td>\n",
       "      <td>149</td>\n",
       "      <td>2.41</td>\n",
       "      <td>3.07</td>\n",
       "      <td>1006.9</td>\n",
       "      <td>0</td>\n",
       "      <td>270.8</td>\n",
       "      <td>0.0</td>\n",
       "      <td>0.0</td>\n",
       "      <td>3.06</td>\n",
       "      <td>0</td>\n",
       "      <td>52</td>\n",
       "      <td>12</td>\n",
       "      <td>45</td>\n",
       "    </tr>\n",
       "  </tbody>\n",
       "</table>\n",
       "</div>"
      ],
      "text/plain": [
       "   cloud_cover  apparent_temperature  temperature  dew_point  wind_bearing  \\\n",
       "0          0.0                 26.52           26      19.46           308   \n",
       "1          0.0                 28.78           27      20.06           149   \n",
       "2          0.0                 26.58           26      19.97           149   \n",
       "\n",
       "   wind_speed  wind_gust  pressure  uv_index  ozone  precip_intensity  \\\n",
       "0        0.83       3.07    1007.9         0  270.8               0.0   \n",
       "1        2.41       3.07    1006.9         0  270.8               0.0   \n",
       "2        2.41       3.07    1006.9         0  270.8               0.0   \n",
       "\n",
       "   precip_probability  visibility  sunrise_hour  sunrise_minute  sunset_hour  \\\n",
       "0                 0.0        3.57             0              52           12   \n",
       "1                 0.0        3.06             0              52           12   \n",
       "2                 0.0        3.06             0              52           12   \n",
       "\n",
       "   sunset_minute  \n",
       "0             45  \n",
       "1             45  \n",
       "2             45  "
      ]
     },
     "execution_count": 65,
     "metadata": {},
     "output_type": "execute_result"
    }
   ],
   "source": [
    "numeric_columns.head(3)"
   ]
  },
  {
   "cell_type": "code",
   "execution_count": 66,
   "metadata": {},
   "outputs": [
    {
     "data": {
      "text/html": [
       "<div>\n",
       "<style scoped>\n",
       "    .dataframe tbody tr th:only-of-type {\n",
       "        vertical-align: middle;\n",
       "    }\n",
       "\n",
       "    .dataframe tbody tr th {\n",
       "        vertical-align: top;\n",
       "    }\n",
       "\n",
       "    .dataframe thead th {\n",
       "        text-align: right;\n",
       "    }\n",
       "</style>\n",
       "<table border=\"1\" class=\"dataframe\">\n",
       "  <thead>\n",
       "    <tr style=\"text-align: right;\">\n",
       "      <th></th>\n",
       "      <th>cloud_cover</th>\n",
       "      <th>apparent_temperature</th>\n",
       "      <th>temperature</th>\n",
       "      <th>dew_point</th>\n",
       "      <th>wind_bearing</th>\n",
       "      <th>wind_speed</th>\n",
       "      <th>wind_gust</th>\n",
       "      <th>pressure</th>\n",
       "      <th>uv_index</th>\n",
       "      <th>ozone</th>\n",
       "      <th>precip_intensity</th>\n",
       "      <th>precip_probability</th>\n",
       "      <th>visibility</th>\n",
       "      <th>sunrise_hour</th>\n",
       "      <th>sunrise_minute</th>\n",
       "      <th>sunset_hour</th>\n",
       "      <th>sunset_minute</th>\n",
       "    </tr>\n",
       "  </thead>\n",
       "  <tbody>\n",
       "    <tr>\n",
       "      <td>0</td>\n",
       "      <td>-0.676788</td>\n",
       "      <td>0.054956</td>\n",
       "      <td>0.169909</td>\n",
       "      <td>0.825421</td>\n",
       "      <td>1.133580</td>\n",
       "      <td>-1.429976</td>\n",
       "      <td>-0.455049</td>\n",
       "      <td>-0.115883</td>\n",
       "      <td>-0.532275</td>\n",
       "      <td>-0.207874</td>\n",
       "      <td>-0.201</td>\n",
       "      <td>-0.284725</td>\n",
       "      <td>0.106707</td>\n",
       "      <td>-1.055352</td>\n",
       "      <td>1.176536</td>\n",
       "      <td>-0.80865</td>\n",
       "      <td>1.068078</td>\n",
       "    </tr>\n",
       "    <tr>\n",
       "      <td>1</td>\n",
       "      <td>-0.676788</td>\n",
       "      <td>0.270823</td>\n",
       "      <td>0.283035</td>\n",
       "      <td>0.891145</td>\n",
       "      <td>-0.345029</td>\n",
       "      <td>-0.172296</td>\n",
       "      <td>-0.455049</td>\n",
       "      <td>-0.255391</td>\n",
       "      <td>-0.532275</td>\n",
       "      <td>-0.207874</td>\n",
       "      <td>-0.201</td>\n",
       "      <td>-0.284725</td>\n",
       "      <td>0.106256</td>\n",
       "      <td>-1.055352</td>\n",
       "      <td>1.176536</td>\n",
       "      <td>-0.80865</td>\n",
       "      <td>1.068078</td>\n",
       "    </tr>\n",
       "    <tr>\n",
       "      <td>2</td>\n",
       "      <td>-0.676788</td>\n",
       "      <td>0.060687</td>\n",
       "      <td>0.169909</td>\n",
       "      <td>0.881287</td>\n",
       "      <td>-0.345029</td>\n",
       "      <td>-0.172296</td>\n",
       "      <td>-0.455049</td>\n",
       "      <td>-0.255391</td>\n",
       "      <td>-0.532275</td>\n",
       "      <td>-0.207874</td>\n",
       "      <td>-0.201</td>\n",
       "      <td>-0.284725</td>\n",
       "      <td>0.106256</td>\n",
       "      <td>-1.055352</td>\n",
       "      <td>1.176536</td>\n",
       "      <td>-0.80865</td>\n",
       "      <td>1.068078</td>\n",
       "    </tr>\n",
       "  </tbody>\n",
       "</table>\n",
       "</div>"
      ],
      "text/plain": [
       "   cloud_cover  apparent_temperature  temperature  dew_point  wind_bearing  \\\n",
       "0    -0.676788              0.054956     0.169909   0.825421      1.133580   \n",
       "1    -0.676788              0.270823     0.283035   0.891145     -0.345029   \n",
       "2    -0.676788              0.060687     0.169909   0.881287     -0.345029   \n",
       "\n",
       "   wind_speed  wind_gust  pressure  uv_index     ozone  precip_intensity  \\\n",
       "0   -1.429976  -0.455049 -0.115883 -0.532275 -0.207874            -0.201   \n",
       "1   -0.172296  -0.455049 -0.255391 -0.532275 -0.207874            -0.201   \n",
       "2   -0.172296  -0.455049 -0.255391 -0.532275 -0.207874            -0.201   \n",
       "\n",
       "   precip_probability  visibility  sunrise_hour  sunrise_minute  sunset_hour  \\\n",
       "0           -0.284725    0.106707     -1.055352        1.176536     -0.80865   \n",
       "1           -0.284725    0.106256     -1.055352        1.176536     -0.80865   \n",
       "2           -0.284725    0.106256     -1.055352        1.176536     -0.80865   \n",
       "\n",
       "   sunset_minute  \n",
       "0       1.068078  \n",
       "1       1.068078  \n",
       "2       1.068078  "
      ]
     },
     "execution_count": 66,
     "metadata": {},
     "output_type": "execute_result"
    }
   ],
   "source": [
    "from sklearn.preprocessing import StandardScaler\n",
    "std = StandardScaler()\n",
    "scaled = std.fit_transform(numeric_columns)\n",
    "numeric_columns_scaled = pd.DataFrame(scaled, columns=numeric_columns.columns)\n",
    "numeric_columns_scaled.head(3)"
   ]
  },
  {
   "cell_type": "code",
   "execution_count": 67,
   "metadata": {},
   "outputs": [
    {
     "data": {
      "text/html": [
       "<div>\n",
       "<style scoped>\n",
       "    .dataframe tbody tr th:only-of-type {\n",
       "        vertical-align: middle;\n",
       "    }\n",
       "\n",
       "    .dataframe tbody tr th {\n",
       "        vertical-align: top;\n",
       "    }\n",
       "\n",
       "    .dataframe thead th {\n",
       "        text-align: right;\n",
       "    }\n",
       "</style>\n",
       "<table border=\"1\" class=\"dataframe\">\n",
       "  <thead>\n",
       "    <tr style=\"text-align: right;\">\n",
       "      <th></th>\n",
       "      <th>humidity</th>\n",
       "      <th>icon</th>\n",
       "      <th>summary</th>\n",
       "      <th>precip_type</th>\n",
       "    </tr>\n",
       "  </thead>\n",
       "  <tbody>\n",
       "    <tr>\n",
       "      <td>0</td>\n",
       "      <td>1</td>\n",
       "      <td>clear-night</td>\n",
       "      <td>Clear</td>\n",
       "      <td>rain</td>\n",
       "    </tr>\n",
       "    <tr>\n",
       "      <td>1</td>\n",
       "      <td>1</td>\n",
       "      <td>fog</td>\n",
       "      <td>Foggy</td>\n",
       "      <td>rain</td>\n",
       "    </tr>\n",
       "    <tr>\n",
       "      <td>2</td>\n",
       "      <td>1</td>\n",
       "      <td>fog</td>\n",
       "      <td>Foggy</td>\n",
       "      <td>rain</td>\n",
       "    </tr>\n",
       "  </tbody>\n",
       "</table>\n",
       "</div>"
      ],
      "text/plain": [
       "   humidity         icon summary precip_type\n",
       "0         1  clear-night   Clear        rain\n",
       "1         1          fog   Foggy        rain\n",
       "2         1          fog   Foggy        rain"
      ]
     },
     "execution_count": 67,
     "metadata": {},
     "output_type": "execute_result"
    }
   ],
   "source": [
    "categorical_columns = power_actual[['humidity', 'icon', 'summary', 'precip_type']]\n",
    "categorical_columns.head(3)"
   ]
  },
  {
   "cell_type": "code",
   "execution_count": 68,
   "metadata": {},
   "outputs": [
    {
     "data": {
      "text/html": [
       "<div>\n",
       "<style scoped>\n",
       "    .dataframe tbody tr th:only-of-type {\n",
       "        vertical-align: middle;\n",
       "    }\n",
       "\n",
       "    .dataframe tbody tr th {\n",
       "        vertical-align: top;\n",
       "    }\n",
       "\n",
       "    .dataframe thead th {\n",
       "        text-align: right;\n",
       "    }\n",
       "</style>\n",
       "<table border=\"1\" class=\"dataframe\">\n",
       "  <thead>\n",
       "    <tr style=\"text-align: right;\">\n",
       "      <th></th>\n",
       "      <th>humidity</th>\n",
       "      <th>icon</th>\n",
       "      <th>summary</th>\n",
       "      <th>precip_type</th>\n",
       "    </tr>\n",
       "  </thead>\n",
       "  <tbody>\n",
       "    <tr>\n",
       "      <td>0</td>\n",
       "      <td>1</td>\n",
       "      <td>1</td>\n",
       "      <td>1</td>\n",
       "      <td>1</td>\n",
       "    </tr>\n",
       "    <tr>\n",
       "      <td>1</td>\n",
       "      <td>1</td>\n",
       "      <td>3</td>\n",
       "      <td>2</td>\n",
       "      <td>1</td>\n",
       "    </tr>\n",
       "    <tr>\n",
       "      <td>2</td>\n",
       "      <td>1</td>\n",
       "      <td>3</td>\n",
       "      <td>2</td>\n",
       "      <td>1</td>\n",
       "    </tr>\n",
       "  </tbody>\n",
       "</table>\n",
       "</div>"
      ],
      "text/plain": [
       "   humidity  icon  summary  precip_type\n",
       "0         1     1        1            1\n",
       "1         1     3        2            1\n",
       "2         1     3        2            1"
      ]
     },
     "execution_count": 68,
     "metadata": {},
     "output_type": "execute_result"
    }
   ],
   "source": [
    "from sklearn.preprocessing import LabelEncoder\n",
    "le = LabelEncoder()\n",
    "categorical_col_names = ['humidity', 'icon', 'summary', 'precip_type']\n",
    "for i in categorical_col_names:\n",
    "    categorical_columns[i] = le.fit_transform(categorical_columns[i])\n",
    "    \n",
    "categorical_columns.head(3)"
   ]
  },
  {
   "cell_type": "code",
   "execution_count": 69,
   "metadata": {},
   "outputs": [
    {
     "data": {
      "text/html": [
       "<div>\n",
       "<style scoped>\n",
       "    .dataframe tbody tr th:only-of-type {\n",
       "        vertical-align: middle;\n",
       "    }\n",
       "\n",
       "    .dataframe tbody tr th {\n",
       "        vertical-align: top;\n",
       "    }\n",
       "\n",
       "    .dataframe thead th {\n",
       "        text-align: right;\n",
       "    }\n",
       "</style>\n",
       "<table border=\"1\" class=\"dataframe\">\n",
       "  <thead>\n",
       "    <tr style=\"text-align: right;\">\n",
       "      <th></th>\n",
       "      <th>cloud_cover</th>\n",
       "      <th>apparent_temperature</th>\n",
       "      <th>temperature</th>\n",
       "      <th>dew_point</th>\n",
       "      <th>wind_bearing</th>\n",
       "      <th>wind_speed</th>\n",
       "      <th>wind_gust</th>\n",
       "      <th>pressure</th>\n",
       "      <th>uv_index</th>\n",
       "      <th>ozone</th>\n",
       "      <th>...</th>\n",
       "      <th>precip_probability</th>\n",
       "      <th>visibility</th>\n",
       "      <th>sunrise_hour</th>\n",
       "      <th>sunrise_minute</th>\n",
       "      <th>sunset_hour</th>\n",
       "      <th>sunset_minute</th>\n",
       "      <th>humidity</th>\n",
       "      <th>icon</th>\n",
       "      <th>summary</th>\n",
       "      <th>precip_type</th>\n",
       "    </tr>\n",
       "  </thead>\n",
       "  <tbody>\n",
       "    <tr>\n",
       "      <td>0</td>\n",
       "      <td>-0.676788</td>\n",
       "      <td>0.054956</td>\n",
       "      <td>0.169909</td>\n",
       "      <td>0.825421</td>\n",
       "      <td>1.133580</td>\n",
       "      <td>-1.429976</td>\n",
       "      <td>-0.455049</td>\n",
       "      <td>-0.115883</td>\n",
       "      <td>-0.532275</td>\n",
       "      <td>-0.207874</td>\n",
       "      <td>...</td>\n",
       "      <td>-0.284725</td>\n",
       "      <td>0.106707</td>\n",
       "      <td>-1.055352</td>\n",
       "      <td>1.176536</td>\n",
       "      <td>-0.80865</td>\n",
       "      <td>1.068078</td>\n",
       "      <td>1</td>\n",
       "      <td>1</td>\n",
       "      <td>1</td>\n",
       "      <td>1</td>\n",
       "    </tr>\n",
       "    <tr>\n",
       "      <td>1</td>\n",
       "      <td>-0.676788</td>\n",
       "      <td>0.270823</td>\n",
       "      <td>0.283035</td>\n",
       "      <td>0.891145</td>\n",
       "      <td>-0.345029</td>\n",
       "      <td>-0.172296</td>\n",
       "      <td>-0.455049</td>\n",
       "      <td>-0.255391</td>\n",
       "      <td>-0.532275</td>\n",
       "      <td>-0.207874</td>\n",
       "      <td>...</td>\n",
       "      <td>-0.284725</td>\n",
       "      <td>0.106256</td>\n",
       "      <td>-1.055352</td>\n",
       "      <td>1.176536</td>\n",
       "      <td>-0.80865</td>\n",
       "      <td>1.068078</td>\n",
       "      <td>1</td>\n",
       "      <td>3</td>\n",
       "      <td>2</td>\n",
       "      <td>1</td>\n",
       "    </tr>\n",
       "    <tr>\n",
       "      <td>2</td>\n",
       "      <td>-0.676788</td>\n",
       "      <td>0.060687</td>\n",
       "      <td>0.169909</td>\n",
       "      <td>0.881287</td>\n",
       "      <td>-0.345029</td>\n",
       "      <td>-0.172296</td>\n",
       "      <td>-0.455049</td>\n",
       "      <td>-0.255391</td>\n",
       "      <td>-0.532275</td>\n",
       "      <td>-0.207874</td>\n",
       "      <td>...</td>\n",
       "      <td>-0.284725</td>\n",
       "      <td>0.106256</td>\n",
       "      <td>-1.055352</td>\n",
       "      <td>1.176536</td>\n",
       "      <td>-0.80865</td>\n",
       "      <td>1.068078</td>\n",
       "      <td>1</td>\n",
       "      <td>3</td>\n",
       "      <td>2</td>\n",
       "      <td>1</td>\n",
       "    </tr>\n",
       "  </tbody>\n",
       "</table>\n",
       "<p>3 rows × 21 columns</p>\n",
       "</div>"
      ],
      "text/plain": [
       "   cloud_cover  apparent_temperature  temperature  dew_point  wind_bearing  \\\n",
       "0    -0.676788              0.054956     0.169909   0.825421      1.133580   \n",
       "1    -0.676788              0.270823     0.283035   0.891145     -0.345029   \n",
       "2    -0.676788              0.060687     0.169909   0.881287     -0.345029   \n",
       "\n",
       "   wind_speed  wind_gust  pressure  uv_index     ozone  ...  \\\n",
       "0   -1.429976  -0.455049 -0.115883 -0.532275 -0.207874  ...   \n",
       "1   -0.172296  -0.455049 -0.255391 -0.532275 -0.207874  ...   \n",
       "2   -0.172296  -0.455049 -0.255391 -0.532275 -0.207874  ...   \n",
       "\n",
       "   precip_probability  visibility  sunrise_hour  sunrise_minute  sunset_hour  \\\n",
       "0           -0.284725    0.106707     -1.055352        1.176536     -0.80865   \n",
       "1           -0.284725    0.106256     -1.055352        1.176536     -0.80865   \n",
       "2           -0.284725    0.106256     -1.055352        1.176536     -0.80865   \n",
       "\n",
       "   sunset_minute  humidity  icon  summary  precip_type  \n",
       "0       1.068078         1     1        1            1  \n",
       "1       1.068078         1     3        2            1  \n",
       "2       1.068078         1     3        2            1  \n",
       "\n",
       "[3 rows x 21 columns]"
      ]
     },
     "execution_count": 69,
     "metadata": {},
     "output_type": "execute_result"
    }
   ],
   "source": [
    "train_features = pd.concat([numeric_columns_scaled, categorical_columns], axis=1)\n",
    "train_features.head(3)"
   ]
  },
  {
   "cell_type": "code",
   "execution_count": 70,
   "metadata": {},
   "outputs": [],
   "source": [
    "train_label = power_actual['power']"
   ]
  },
  {
   "cell_type": "markdown",
   "metadata": {},
   "source": [
    "#### We'll apply train test split and build our model on \"train_features\" & \"train_label\""
   ]
  },
  {
   "cell_type": "code",
   "execution_count": 71,
   "metadata": {},
   "outputs": [],
   "source": [
    "from sklearn.model_selection import train_test_split\n",
    "X_train, X_test, y_train, y_test = train_test_split(train_features, train_label, train_size=0.8, random_state=1)"
   ]
  },
  {
   "cell_type": "code",
   "execution_count": 72,
   "metadata": {},
   "outputs": [],
   "source": [
    "# build ML models for cross validation\n",
    "\n",
    "from sklearn.ensemble import RandomForestRegressor\n",
    "from sklearn.neighbors import KNeighborsRegressor\n",
    "from xgboost import XGBRegressor"
   ]
  },
  {
   "cell_type": "code",
   "execution_count": 73,
   "metadata": {},
   "outputs": [],
   "source": [
    "# create objects of the models\n",
    "\n",
    "rf = RandomForestRegressor(n_estimators=100)\n",
    "knn = KNeighborsRegressor(n_neighbors=25)\n",
    "xgb = XGBRegressor()"
   ]
  },
  {
   "cell_type": "code",
   "execution_count": 74,
   "metadata": {},
   "outputs": [
    {
     "name": "stdout",
     "output_type": "stream",
     "text": [
      "[14:29:52] WARNING: C:/Jenkins/workspace/xgboost-win64_release_0.90/src/objective/regression_obj.cu:152: reg:linear is now deprecated in favor of reg:squarederror.\n",
      "[14:29:54] WARNING: C:/Jenkins/workspace/xgboost-win64_release_0.90/src/objective/regression_obj.cu:152: reg:linear is now deprecated in favor of reg:squarederror.\n",
      "[14:29:55] WARNING: C:/Jenkins/workspace/xgboost-win64_release_0.90/src/objective/regression_obj.cu:152: reg:linear is now deprecated in favor of reg:squarederror.\n",
      "[14:29:56] WARNING: C:/Jenkins/workspace/xgboost-win64_release_0.90/src/objective/regression_obj.cu:152: reg:linear is now deprecated in favor of reg:squarederror.\n",
      "[14:29:57] WARNING: C:/Jenkins/workspace/xgboost-win64_release_0.90/src/objective/regression_obj.cu:152: reg:linear is now deprecated in favor of reg:squarederror.\n"
     ]
    }
   ],
   "source": [
    "# check cross validation scores (r2) for all the models\n",
    "\n",
    "from sklearn.model_selection import cross_val_score\n",
    "\n",
    "rf_score = cross_val_score(rf, X_train, y_train, cv=5, scoring='r2')\n",
    "knn_score = cross_val_score(knn, X_train, y_train, cv=5, scoring='r2')\n",
    "xgb_score = cross_val_score(xgb, X_train, y_train, cv=5, scoring='r2')"
   ]
  },
  {
   "cell_type": "code",
   "execution_count": 152,
   "metadata": {},
   "outputs": [
    {
     "name": "stdout",
     "output_type": "stream",
     "text": [
      "Random Forest:  [0.6810695  0.45377692 0.40760877 0.42423786 0.31434694]\n",
      "K Nearest Neighbors:  [ 0.11452239  0.28387242  0.18333002 -0.07313647  0.22320677]\n",
      "XGBoost:  [0.66478425 0.57084549 0.30082912 0.56682184 0.31261328]\n"
     ]
    }
   ],
   "source": [
    "# print the scores\n",
    "\n",
    "print('Random Forest: ',rf_score)\n",
    "print('K Nearest Neighbors: ',knn_score)\n",
    "print('XGBoost: ',xgb_score)"
   ]
  },
  {
   "cell_type": "code",
   "execution_count": 75,
   "metadata": {},
   "outputs": [],
   "source": [
    "#check the mean and standard deviation of the scores to select the best model\n",
    "\n",
    "#mean\n",
    "r = rf_score.mean()\n",
    "k = knn_score.mean()\n",
    "x = xgb_score.mean()\n",
    "\n",
    "# stdev\n",
    "r_s = rf_score.std()\n",
    "k_s = knn_score.std()\n",
    "x_s = xgb_score.std()"
   ]
  },
  {
   "cell_type": "code",
   "execution_count": 76,
   "metadata": {},
   "outputs": [
    {
     "data": {
      "text/html": [
       "<div>\n",
       "<style scoped>\n",
       "    .dataframe tbody tr th:only-of-type {\n",
       "        vertical-align: middle;\n",
       "    }\n",
       "\n",
       "    .dataframe tbody tr th {\n",
       "        vertical-align: top;\n",
       "    }\n",
       "\n",
       "    .dataframe thead th {\n",
       "        text-align: right;\n",
       "    }\n",
       "</style>\n",
       "<table border=\"1\" class=\"dataframe\">\n",
       "  <thead>\n",
       "    <tr style=\"text-align: right;\">\n",
       "      <th></th>\n",
       "      <th>Model</th>\n",
       "      <th>R2</th>\n",
       "      <th>Stdev</th>\n",
       "    </tr>\n",
       "  </thead>\n",
       "  <tbody>\n",
       "    <tr>\n",
       "      <td>2</td>\n",
       "      <td>XGBoost</td>\n",
       "      <td>0.494716</td>\n",
       "      <td>0.139341</td>\n",
       "    </tr>\n",
       "    <tr>\n",
       "      <td>0</td>\n",
       "      <td>Random Forest</td>\n",
       "      <td>0.467971</td>\n",
       "      <td>0.130939</td>\n",
       "    </tr>\n",
       "    <tr>\n",
       "      <td>1</td>\n",
       "      <td>K Nearest Neighbors</td>\n",
       "      <td>0.087146</td>\n",
       "      <td>0.184337</td>\n",
       "    </tr>\n",
       "  </tbody>\n",
       "</table>\n",
       "</div>"
      ],
      "text/plain": [
       "                 Model        R2     Stdev\n",
       "2              XGBoost  0.494716  0.139341\n",
       "0        Random Forest  0.467971  0.130939\n",
       "1  K Nearest Neighbors  0.087146  0.184337"
      ]
     },
     "execution_count": 76,
     "metadata": {},
     "output_type": "execute_result"
    }
   ],
   "source": [
    "# print the results in an order\n",
    "\n",
    "res = pd.DataFrame(\n",
    "        {\n",
    "        'Model':['Random Forest','K Nearest Neighbors','XGBoost'],\n",
    "        'R2':[r,k,x],\n",
    "        'Stdev':[r_s, k_s, x_s]\n",
    "        }   )\n",
    "average_scores = res.sort_values(by='R2', ascending=False)\n",
    "average_scores"
   ]
  },
  {
   "cell_type": "code",
   "execution_count": 77,
   "metadata": {},
   "outputs": [
    {
     "name": "stdout",
     "output_type": "stream",
     "text": [
      "[14:30:43] WARNING: C:/Jenkins/workspace/xgboost-win64_release_0.90/src/objective/regression_obj.cu:152: reg:linear is now deprecated in favor of reg:squarederror.\n"
     ]
    },
    {
     "data": {
      "text/plain": [
       "XGBRegressor(base_score=0.5, booster='gbtree', colsample_bylevel=1,\n",
       "             colsample_bynode=1, colsample_bytree=1, gamma=0,\n",
       "             importance_type='gain', learning_rate=0.1, max_delta_step=0,\n",
       "             max_depth=3, min_child_weight=1, missing=None, n_estimators=100,\n",
       "             n_jobs=1, nthread=None, objective='reg:linear', random_state=0,\n",
       "             reg_alpha=0, reg_lambda=1, scale_pos_weight=1, seed=None,\n",
       "             silent=None, subsample=1, verbosity=1)"
      ]
     },
     "execution_count": 77,
     "metadata": {},
     "output_type": "execute_result"
    }
   ],
   "source": [
    "# XGBoost has the best score, hence we'll select XGBoost model\n",
    "\n",
    "xgb.fit(X_train, y_train)"
   ]
  },
  {
   "cell_type": "code",
   "execution_count": 78,
   "metadata": {},
   "outputs": [
    {
     "data": {
      "image/png": "[encoded data removed]",
      "text/plain": [
       "<Figure size 432x288 with 1 Axes>"
      ]
     },
     "metadata": {
      "needs_background": "light"
     },
     "output_type": "display_data"
    }
   ],
   "source": [
    "#Feature Importance\n",
    "\n",
    "fscores = pd.DataFrame({'Features': list(xgb.get_booster().get_fscore().keys()), 'Scores': list(xgb.get_booster().get_fscore().values())})\n",
    "fscores.sort_values(by='Scores', ascending=False).plot.bar(x='Features')\n",
    "plt.show()"
   ]
  },
  {
   "cell_type": "code",
   "execution_count": 79,
   "metadata": {},
   "outputs": [
    {
     "data": {
      "text/html": [
       "<div>\n",
       "<style scoped>\n",
       "    .dataframe tbody tr th:only-of-type {\n",
       "        vertical-align: middle;\n",
       "    }\n",
       "\n",
       "    .dataframe tbody tr th {\n",
       "        vertical-align: top;\n",
       "    }\n",
       "\n",
       "    .dataframe thead th {\n",
       "        text-align: right;\n",
       "    }\n",
       "</style>\n",
       "<table border=\"1\" class=\"dataframe\">\n",
       "  <thead>\n",
       "    <tr style=\"text-align: right;\">\n",
       "      <th></th>\n",
       "      <th>Features</th>\n",
       "      <th>Scores</th>\n",
       "    </tr>\n",
       "  </thead>\n",
       "  <tbody>\n",
       "    <tr>\n",
       "      <td>1</td>\n",
       "      <td>apparent_temperature</td>\n",
       "      <td>184</td>\n",
       "    </tr>\n",
       "    <tr>\n",
       "      <td>0</td>\n",
       "      <td>dew_point</td>\n",
       "      <td>126</td>\n",
       "    </tr>\n",
       "    <tr>\n",
       "      <td>6</td>\n",
       "      <td>sunset_minute</td>\n",
       "      <td>78</td>\n",
       "    </tr>\n",
       "    <tr>\n",
       "      <td>2</td>\n",
       "      <td>wind_speed</td>\n",
       "      <td>67</td>\n",
       "    </tr>\n",
       "    <tr>\n",
       "      <td>3</td>\n",
       "      <td>sunrise_minute</td>\n",
       "      <td>32</td>\n",
       "    </tr>\n",
       "    <tr>\n",
       "      <td>5</td>\n",
       "      <td>uv_index</td>\n",
       "      <td>32</td>\n",
       "    </tr>\n",
       "    <tr>\n",
       "      <td>7</td>\n",
       "      <td>wind_gust</td>\n",
       "      <td>32</td>\n",
       "    </tr>\n",
       "    <tr>\n",
       "      <td>4</td>\n",
       "      <td>cloud_cover</td>\n",
       "      <td>31</td>\n",
       "    </tr>\n",
       "    <tr>\n",
       "      <td>13</td>\n",
       "      <td>temperature</td>\n",
       "      <td>30</td>\n",
       "    </tr>\n",
       "    <tr>\n",
       "      <td>10</td>\n",
       "      <td>ozone</td>\n",
       "      <td>29</td>\n",
       "    </tr>\n",
       "    <tr>\n",
       "      <td>9</td>\n",
       "      <td>pressure</td>\n",
       "      <td>19</td>\n",
       "    </tr>\n",
       "    <tr>\n",
       "      <td>8</td>\n",
       "      <td>precip_probability</td>\n",
       "      <td>16</td>\n",
       "    </tr>\n",
       "    <tr>\n",
       "      <td>11</td>\n",
       "      <td>wind_bearing</td>\n",
       "      <td>10</td>\n",
       "    </tr>\n",
       "    <tr>\n",
       "      <td>12</td>\n",
       "      <td>precip_intensity</td>\n",
       "      <td>3</td>\n",
       "    </tr>\n",
       "    <tr>\n",
       "      <td>14</td>\n",
       "      <td>summary</td>\n",
       "      <td>1</td>\n",
       "    </tr>\n",
       "  </tbody>\n",
       "</table>\n",
       "</div>"
      ],
      "text/plain": [
       "                Features  Scores\n",
       "1   apparent_temperature     184\n",
       "0              dew_point     126\n",
       "6          sunset_minute      78\n",
       "2             wind_speed      67\n",
       "3         sunrise_minute      32\n",
       "5               uv_index      32\n",
       "7              wind_gust      32\n",
       "4            cloud_cover      31\n",
       "13           temperature      30\n",
       "10                 ozone      29\n",
       "9               pressure      19\n",
       "8     precip_probability      16\n",
       "11          wind_bearing      10\n",
       "12      precip_intensity       3\n",
       "14               summary       1"
      ]
     },
     "execution_count": 79,
     "metadata": {},
     "output_type": "execute_result"
    }
   ],
   "source": [
    "fscores.sort_values(by='Scores', ascending=False)"
   ]
  },
  {
   "cell_type": "code",
   "execution_count": 80,
   "metadata": {},
   "outputs": [],
   "source": [
    "# We'll get the prediction to check the performance of our model, and tune the parameters accordingly\n",
    "\n",
    "y_pred = xgb.predict(X_test)"
   ]
  },
  {
   "cell_type": "code",
   "execution_count": 81,
   "metadata": {},
   "outputs": [
    {
     "name": "stdout",
     "output_type": "stream",
     "text": [
      "R2 Score:  0.568\n",
      "Root Mean Squared Error:  410.023\n"
     ]
    }
   ],
   "source": [
    "from sklearn.metrics import r2_score, mean_squared_error\n",
    "\n",
    "print('R2 Score: ',np.round(r2_score(y_test, y_pred),3))\n",
    "print('Root Mean Squared Error: ',np.round(np.sqrt(mean_squared_error(y_test, y_pred)),3))"
   ]
  },
  {
   "cell_type": "markdown",
   "metadata": {},
   "source": [
    "#### We'll use bayesian optimization for hyperparameter tuning. We can also use GridSearach, but it requires larger computational power"
   ]
  },
  {
   "cell_type": "code",
   "execution_count": 82,
   "metadata": {},
   "outputs": [],
   "source": [
    "#Bayesian Optimization function for xgboost, maximizing r2_score\n",
    "\n",
    "from bayes_opt import BayesianOptimization\n",
    "\n",
    "def xgb_evaluate(max_depth, n_estimators, learning_rate):\n",
    "    params = {'max_depth': int(max_depth),\n",
    "              'n_estimators': int(n_estimators),\n",
    "              'learning_rate': learning_rate}\n",
    "    model = XGBRegressor(**params)\n",
    "    model.fit(X_train,y_train)\n",
    "    pred = model.predict(X_test)\n",
    "    return r2_score(y_test,pred)"
   ]
  },
  {
   "cell_type": "code",
   "execution_count": 83,
   "metadata": {},
   "outputs": [],
   "source": [
    "# bounds / parameter list for optimization\n",
    "\n",
    "bounds = {'max_depth': (3,10),\n",
    "          'n_estimators': (50,500),\n",
    "          'learning_rate': (0.01,0.1)}"
   ]
  },
  {
   "cell_type": "code",
   "execution_count": 84,
   "metadata": {},
   "outputs": [],
   "source": [
    "optimizer = BayesianOptimization(f=xgb_evaluate, pbounds=bounds, random_state=1, verbose=True)"
   ]
  },
  {
   "cell_type": "code",
   "execution_count": 85,
   "metadata": {
    "scrolled": true
   },
   "outputs": [
    {
     "name": "stdout",
     "output_type": "stream",
     "text": [
      "|   iter    |  target   | learni... | max_depth | n_esti... |\n",
      "-------------------------------------------------------------\n",
      "[14:34:16] WARNING: C:/Jenkins/workspace/xgboost-win64_release_0.90/src/objective/regression_obj.cu:152: reg:linear is now deprecated in favor of reg:squarederror.\n",
      "[14:34:18] WARNING: C:/Jenkins/workspace/xgboost-win64_release_0.90/src/objective/regression_obj.cu:152: reg:linear is now deprecated in favor of reg:squarederror.\n",
      "[14:34:20] WARNING: C:/Jenkins/workspace/xgboost-win64_release_0.90/src/objective/regression_obj.cu:152: reg:linear is now deprecated in favor of reg:squarederror.\n",
      "| \u001b[95m 3       \u001b[0m | \u001b[95m 0.631   \u001b[0m | \u001b[95m 0.02676 \u001b[0m | \u001b[95m 5.419   \u001b[0m | \u001b[95m 228.5   \u001b[0m |\n",
      "[14:34:24] WARNING: C:/Jenkins/workspace/xgboost-win64_release_0.90/src/objective/regression_obj.cu:152: reg:linear is now deprecated in favor of reg:squarederror.\n",
      "[14:34:32] WARNING: C:/Jenkins/workspace/xgboost-win64_release_0.90/src/objective/regression_obj.cu:152: reg:linear is now deprecated in favor of reg:squarederror.\n",
      "[14:34:34] WARNING: C:/Jenkins/workspace/xgboost-win64_release_0.90/src/objective/regression_obj.cu:152: reg:linear is now deprecated in favor of reg:squarederror.\n",
      "| \u001b[95m 6       \u001b[0m | \u001b[95m 0.6492  \u001b[0m | \u001b[95m 0.07034 \u001b[0m | \u001b[95m 5.921   \u001b[0m | \u001b[95m 301.4   \u001b[0m |\n",
      "[14:34:41] WARNING: C:/Jenkins/workspace/xgboost-win64_release_0.90/src/objective/regression_obj.cu:152: reg:linear is now deprecated in favor of reg:squarederror.\n",
      "| \u001b[95m 7       \u001b[0m | \u001b[95m 0.6796  \u001b[0m | \u001b[95m 0.02263 \u001b[0m | \u001b[95m 4.387   \u001b[0m | \u001b[95m 410.3   \u001b[0m |\n",
      "[14:34:49] WARNING: C:/Jenkins/workspace/xgboost-win64_release_0.90/src/objective/regression_obj.cu:152: reg:linear is now deprecated in favor of reg:squarederror.\n",
      "[14:34:56] WARNING: C:/Jenkins/workspace/xgboost-win64_release_0.90/src/objective/regression_obj.cu:152: reg:linear is now deprecated in favor of reg:squarederror.\n",
      "[14:35:00] WARNING: C:/Jenkins/workspace/xgboost-win64_release_0.90/src/objective/regression_obj.cu:152: reg:linear is now deprecated in favor of reg:squarederror.\n",
      "[14:35:17] WARNING: C:/Jenkins/workspace/xgboost-win64_release_0.90/src/objective/regression_obj.cu:152: reg:linear is now deprecated in favor of reg:squarederror.\n",
      "[14:35:36] WARNING: C:/Jenkins/workspace/xgboost-win64_release_0.90/src/objective/regression_obj.cu:152: reg:linear is now deprecated in favor of reg:squarederror.\n",
      "[14:35:53] WARNING: C:/Jenkins/workspace/xgboost-win64_release_0.90/src/objective/regression_obj.cu:152: reg:linear is now deprecated in favor of reg:squarederror.\n",
      "[14:36:07] WARNING: C:/Jenkins/workspace/xgboost-win64_release_0.90/src/objective/regression_obj.cu:152: reg:linear is now deprecated in favor of reg:squarederror.\n",
      "[14:36:21] WARNING: C:/Jenkins/workspace/xgboost-win64_release_0.90/src/objective/regression_obj.cu:152: reg:linear is now deprecated in favor of reg:squarederror.\n",
      "[14:36:49] WARNING: C:/Jenkins/workspace/xgboost-win64_release_0.90/src/objective/regression_obj.cu:152: reg:linear is now deprecated in favor of reg:squarederror.\n",
      "[14:37:02] WARNING: C:/Jenkins/workspace/xgboost-win64_release_0.90/src/objective/regression_obj.cu:152: reg:linear is now deprecated in favor of reg:squarederror.\n",
      "[14:37:16] WARNING: C:/Jenkins/workspace/xgboost-win64_release_0.90/src/objective/regression_obj.cu:152: reg:linear is now deprecated in favor of reg:squarederror.\n",
      "[14:37:31] WARNING: C:/Jenkins/workspace/xgboost-win64_release_0.90/src/objective/regression_obj.cu:152: reg:linear is now deprecated in favor of reg:squarederror.\n",
      "[14:37:55] WARNING: C:/Jenkins/workspace/xgboost-win64_release_0.90/src/objective/regression_obj.cu:152: reg:linear is now deprecated in favor of reg:squarederror.\n",
      "[14:38:10] WARNING: C:/Jenkins/workspace/xgboost-win64_release_0.90/src/objective/regression_obj.cu:152: reg:linear is now deprecated in favor of reg:squarederror.\n",
      "[14:38:38] WARNING: C:/Jenkins/workspace/xgboost-win64_release_0.90/src/objective/regression_obj.cu:152: reg:linear is now deprecated in favor of reg:squarederror.\n",
      "[14:38:51] WARNING: C:/Jenkins/workspace/xgboost-win64_release_0.90/src/objective/regression_obj.cu:152: reg:linear is now deprecated in favor of reg:squarederror.\n",
      "[14:39:11] WARNING: C:/Jenkins/workspace/xgboost-win64_release_0.90/src/objective/regression_obj.cu:152: reg:linear is now deprecated in favor of reg:squarederror.\n",
      "[14:39:29] WARNING: C:/Jenkins/workspace/xgboost-win64_release_0.90/src/objective/regression_obj.cu:152: reg:linear is now deprecated in favor of reg:squarederror.\n",
      "[14:39:42] WARNING: C:/Jenkins/workspace/xgboost-win64_release_0.90/src/objective/regression_obj.cu:152: reg:linear is now deprecated in favor of reg:squarederror.\n",
      "[14:40:03] WARNING: C:/Jenkins/workspace/xgboost-win64_release_0.90/src/objective/regression_obj.cu:152: reg:linear is now deprecated in favor of reg:squarederror.\n",
      "[14:40:13] WARNING: C:/Jenkins/workspace/xgboost-win64_release_0.90/src/objective/regression_obj.cu:152: reg:linear is now deprecated in favor of reg:squarederror.\n",
      "[14:40:24] WARNING: C:/Jenkins/workspace/xgboost-win64_release_0.90/src/objective/regression_obj.cu:152: reg:linear is now deprecated in favor of reg:squarederror.\n",
      "[14:40:46] WARNING: C:/Jenkins/workspace/xgboost-win64_release_0.90/src/objective/regression_obj.cu:152: reg:linear is now deprecated in favor of reg:squarederror.\n",
      "[14:40:58] WARNING: C:/Jenkins/workspace/xgboost-win64_release_0.90/src/objective/regression_obj.cu:152: reg:linear is now deprecated in favor of reg:squarederror.\n",
      "[14:41:12] WARNING: C:/Jenkins/workspace/xgboost-win64_release_0.90/src/objective/regression_obj.cu:152: reg:linear is now deprecated in favor of reg:squarederror.\n",
      "[14:41:41] WARNING: C:/Jenkins/workspace/xgboost-win64_release_0.90/src/objective/regression_obj.cu:152: reg:linear is now deprecated in favor of reg:squarederror.\n",
      "[14:41:53] WARNING: C:/Jenkins/workspace/xgboost-win64_release_0.90/src/objective/regression_obj.cu:152: reg:linear is now deprecated in favor of reg:squarederror.\n",
      "[14:42:05] WARNING: C:/Jenkins/workspace/xgboost-win64_release_0.90/src/objective/regression_obj.cu:152: reg:linear is now deprecated in favor of reg:squarederror.\n",
      "[14:42:18] WARNING: C:/Jenkins/workspace/xgboost-win64_release_0.90/src/objective/regression_obj.cu:152: reg:linear is now deprecated in favor of reg:squarederror.\n",
      "[14:42:32] WARNING: C:/Jenkins/workspace/xgboost-win64_release_0.90/src/objective/regression_obj.cu:152: reg:linear is now deprecated in favor of reg:squarederror.\n",
      "[14:42:42] WARNING: C:/Jenkins/workspace/xgboost-win64_release_0.90/src/objective/regression_obj.cu:152: reg:linear is now deprecated in favor of reg:squarederror.\n",
      "[14:42:56] WARNING: C:/Jenkins/workspace/xgboost-win64_release_0.90/src/objective/regression_obj.cu:152: reg:linear is now deprecated in favor of reg:squarederror.\n",
      "[14:43:08] WARNING: C:/Jenkins/workspace/xgboost-win64_release_0.90/src/objective/regression_obj.cu:152: reg:linear is now deprecated in favor of reg:squarederror.\n",
      "[14:43:19] WARNING: C:/Jenkins/workspace/xgboost-win64_release_0.90/src/objective/regression_obj.cu:152: reg:linear is now deprecated in favor of reg:squarederror.\n",
      "[14:43:29] WARNING: C:/Jenkins/workspace/xgboost-win64_release_0.90/src/objective/regression_obj.cu:152: reg:linear is now deprecated in favor of reg:squarederror.\n",
      "[14:43:40] WARNING: C:/Jenkins/workspace/xgboost-win64_release_0.90/src/objective/regression_obj.cu:152: reg:linear is now deprecated in favor of reg:squarederror.\n",
      "[14:43:49] WARNING: C:/Jenkins/workspace/xgboost-win64_release_0.90/src/objective/regression_obj.cu:152: reg:linear is now deprecated in favor of reg:squarederror.\n",
      "[14:44:12] WARNING: C:/Jenkins/workspace/xgboost-win64_release_0.90/src/objective/regression_obj.cu:152: reg:linear is now deprecated in favor of reg:squarederror.\n",
      "[14:44:25] WARNING: C:/Jenkins/workspace/xgboost-win64_release_0.90/src/objective/regression_obj.cu:152: reg:linear is now deprecated in favor of reg:squarederror.\n",
      "[14:44:51] WARNING: C:/Jenkins/workspace/xgboost-win64_release_0.90/src/objective/regression_obj.cu:152: reg:linear is now deprecated in favor of reg:squarederror.\n",
      "[14:45:16] WARNING: C:/Jenkins/workspace/xgboost-win64_release_0.90/src/objective/regression_obj.cu:152: reg:linear is now deprecated in favor of reg:squarederror.\n"
     ]
    },
    {
     "name": "stdout",
     "output_type": "stream",
     "text": [
      "[14:45:26] WARNING: C:/Jenkins/workspace/xgboost-win64_release_0.90/src/objective/regression_obj.cu:152: reg:linear is now deprecated in favor of reg:squarederror.\n",
      "[14:45:45] WARNING: C:/Jenkins/workspace/xgboost-win64_release_0.90/src/objective/regression_obj.cu:152: reg:linear is now deprecated in favor of reg:squarederror.\n",
      "[14:46:00] WARNING: C:/Jenkins/workspace/xgboost-win64_release_0.90/src/objective/regression_obj.cu:152: reg:linear is now deprecated in favor of reg:squarederror.\n",
      "[14:46:18] WARNING: C:/Jenkins/workspace/xgboost-win64_release_0.90/src/objective/regression_obj.cu:152: reg:linear is now deprecated in favor of reg:squarederror.\n",
      "[14:46:26] WARNING: C:/Jenkins/workspace/xgboost-win64_release_0.90/src/objective/regression_obj.cu:152: reg:linear is now deprecated in favor of reg:squarederror.\n",
      "[14:46:37] WARNING: C:/Jenkins/workspace/xgboost-win64_release_0.90/src/objective/regression_obj.cu:152: reg:linear is now deprecated in favor of reg:squarederror.\n",
      "[14:46:58] WARNING: C:/Jenkins/workspace/xgboost-win64_release_0.90/src/objective/regression_obj.cu:152: reg:linear is now deprecated in favor of reg:squarederror.\n",
      "[14:47:09] WARNING: C:/Jenkins/workspace/xgboost-win64_release_0.90/src/objective/regression_obj.cu:152: reg:linear is now deprecated in favor of reg:squarederror.\n",
      "[14:47:22] WARNING: C:/Jenkins/workspace/xgboost-win64_release_0.90/src/objective/regression_obj.cu:152: reg:linear is now deprecated in favor of reg:squarederror.\n",
      "[14:47:41] WARNING: C:/Jenkins/workspace/xgboost-win64_release_0.90/src/objective/regression_obj.cu:152: reg:linear is now deprecated in favor of reg:squarederror.\n",
      "[14:47:54] WARNING: C:/Jenkins/workspace/xgboost-win64_release_0.90/src/objective/regression_obj.cu:152: reg:linear is now deprecated in favor of reg:squarederror.\n",
      "[14:48:08] WARNING: C:/Jenkins/workspace/xgboost-win64_release_0.90/src/objective/regression_obj.cu:152: reg:linear is now deprecated in favor of reg:squarederror.\n",
      "[14:48:41] WARNING: C:/Jenkins/workspace/xgboost-win64_release_0.90/src/objective/regression_obj.cu:152: reg:linear is now deprecated in favor of reg:squarederror.\n",
      "[14:49:07] WARNING: C:/Jenkins/workspace/xgboost-win64_release_0.90/src/objective/regression_obj.cu:152: reg:linear is now deprecated in favor of reg:squarederror.\n",
      "[14:49:20] WARNING: C:/Jenkins/workspace/xgboost-win64_release_0.90/src/objective/regression_obj.cu:152: reg:linear is now deprecated in favor of reg:squarederror.\n",
      "[14:49:32] WARNING: C:/Jenkins/workspace/xgboost-win64_release_0.90/src/objective/regression_obj.cu:152: reg:linear is now deprecated in favor of reg:squarederror.\n",
      "[14:49:46] WARNING: C:/Jenkins/workspace/xgboost-win64_release_0.90/src/objective/regression_obj.cu:152: reg:linear is now deprecated in favor of reg:squarederror.\n",
      "[14:49:59] WARNING: C:/Jenkins/workspace/xgboost-win64_release_0.90/src/objective/regression_obj.cu:152: reg:linear is now deprecated in favor of reg:squarederror.\n",
      "[14:50:09] WARNING: C:/Jenkins/workspace/xgboost-win64_release_0.90/src/objective/regression_obj.cu:152: reg:linear is now deprecated in favor of reg:squarederror.\n",
      "[14:50:43] WARNING: C:/Jenkins/workspace/xgboost-win64_release_0.90/src/objective/regression_obj.cu:152: reg:linear is now deprecated in favor of reg:squarederror.\n",
      "[14:51:10] WARNING: C:/Jenkins/workspace/xgboost-win64_release_0.90/src/objective/regression_obj.cu:152: reg:linear is now deprecated in favor of reg:squarederror.\n",
      "[14:51:36] WARNING: C:/Jenkins/workspace/xgboost-win64_release_0.90/src/objective/regression_obj.cu:152: reg:linear is now deprecated in favor of reg:squarederror.\n",
      "[14:51:52] WARNING: C:/Jenkins/workspace/xgboost-win64_release_0.90/src/objective/regression_obj.cu:152: reg:linear is now deprecated in favor of reg:squarederror.\n",
      "[14:52:05] WARNING: C:/Jenkins/workspace/xgboost-win64_release_0.90/src/objective/regression_obj.cu:152: reg:linear is now deprecated in favor of reg:squarederror.\n",
      "[14:52:18] WARNING: C:/Jenkins/workspace/xgboost-win64_release_0.90/src/objective/regression_obj.cu:152: reg:linear is now deprecated in favor of reg:squarederror.\n",
      "[14:52:32] WARNING: C:/Jenkins/workspace/xgboost-win64_release_0.90/src/objective/regression_obj.cu:152: reg:linear is now deprecated in favor of reg:squarederror.\n",
      "[14:52:44] WARNING: C:/Jenkins/workspace/xgboost-win64_release_0.90/src/objective/regression_obj.cu:152: reg:linear is now deprecated in favor of reg:squarederror.\n",
      "[14:53:10] WARNING: C:/Jenkins/workspace/xgboost-win64_release_0.90/src/objective/regression_obj.cu:152: reg:linear is now deprecated in favor of reg:squarederror.\n",
      "[14:53:20] WARNING: C:/Jenkins/workspace/xgboost-win64_release_0.90/src/objective/regression_obj.cu:152: reg:linear is now deprecated in favor of reg:squarederror.\n",
      "[14:53:32] WARNING: C:/Jenkins/workspace/xgboost-win64_release_0.90/src/objective/regression_obj.cu:152: reg:linear is now deprecated in favor of reg:squarederror.\n",
      "[14:53:54] WARNING: C:/Jenkins/workspace/xgboost-win64_release_0.90/src/objective/regression_obj.cu:152: reg:linear is now deprecated in favor of reg:squarederror.\n",
      "[14:54:02] WARNING: C:/Jenkins/workspace/xgboost-win64_release_0.90/src/objective/regression_obj.cu:152: reg:linear is now deprecated in favor of reg:squarederror.\n",
      "[14:54:17] WARNING: C:/Jenkins/workspace/xgboost-win64_release_0.90/src/objective/regression_obj.cu:152: reg:linear is now deprecated in favor of reg:squarederror.\n",
      "[14:54:32] WARNING: C:/Jenkins/workspace/xgboost-win64_release_0.90/src/objective/regression_obj.cu:152: reg:linear is now deprecated in favor of reg:squarederror.\n",
      "[14:54:46] WARNING: C:/Jenkins/workspace/xgboost-win64_release_0.90/src/objective/regression_obj.cu:152: reg:linear is now deprecated in favor of reg:squarederror.\n",
      "[14:55:02] WARNING: C:/Jenkins/workspace/xgboost-win64_release_0.90/src/objective/regression_obj.cu:152: reg:linear is now deprecated in favor of reg:squarederror.\n",
      "[14:55:16] WARNING: C:/Jenkins/workspace/xgboost-win64_release_0.90/src/objective/regression_obj.cu:152: reg:linear is now deprecated in favor of reg:squarederror.\n",
      "[14:55:25] WARNING: C:/Jenkins/workspace/xgboost-win64_release_0.90/src/objective/regression_obj.cu:152: reg:linear is now deprecated in favor of reg:squarederror.\n",
      "[14:55:45] WARNING: C:/Jenkins/workspace/xgboost-win64_release_0.90/src/objective/regression_obj.cu:152: reg:linear is now deprecated in favor of reg:squarederror.\n",
      "[14:56:00] WARNING: C:/Jenkins/workspace/xgboost-win64_release_0.90/src/objective/regression_obj.cu:152: reg:linear is now deprecated in favor of reg:squarederror.\n",
      "[14:56:12] WARNING: C:/Jenkins/workspace/xgboost-win64_release_0.90/src/objective/regression_obj.cu:152: reg:linear is now deprecated in favor of reg:squarederror.\n",
      "[14:56:24] WARNING: C:/Jenkins/workspace/xgboost-win64_release_0.90/src/objective/regression_obj.cu:152: reg:linear is now deprecated in favor of reg:squarederror.\n",
      "[14:56:48] WARNING: C:/Jenkins/workspace/xgboost-win64_release_0.90/src/objective/regression_obj.cu:152: reg:linear is now deprecated in favor of reg:squarederror.\n",
      "[14:57:04] WARNING: C:/Jenkins/workspace/xgboost-win64_release_0.90/src/objective/regression_obj.cu:152: reg:linear is now deprecated in favor of reg:squarederror.\n",
      "[14:57:16] WARNING: C:/Jenkins/workspace/xgboost-win64_release_0.90/src/objective/regression_obj.cu:152: reg:linear is now deprecated in favor of reg:squarederror.\n",
      "[14:57:34] WARNING: C:/Jenkins/workspace/xgboost-win64_release_0.90/src/objective/regression_obj.cu:152: reg:linear is now deprecated in favor of reg:squarederror.\n",
      "[14:57:43] WARNING: C:/Jenkins/workspace/xgboost-win64_release_0.90/src/objective/regression_obj.cu:152: reg:linear is now deprecated in favor of reg:squarederror.\n",
      "[14:58:03] WARNING: C:/Jenkins/workspace/xgboost-win64_release_0.90/src/objective/regression_obj.cu:152: reg:linear is now deprecated in favor of reg:squarederror.\n",
      "[14:58:16] WARNING: C:/Jenkins/workspace/xgboost-win64_release_0.90/src/objective/regression_obj.cu:152: reg:linear is now deprecated in favor of reg:squarederror.\n",
      "[14:58:30] WARNING: C:/Jenkins/workspace/xgboost-win64_release_0.90/src/objective/regression_obj.cu:152: reg:linear is now deprecated in favor of reg:squarederror.\n"
     ]
    },
    {
     "name": "stdout",
     "output_type": "stream",
     "text": [
      "[14:58:48] WARNING: C:/Jenkins/workspace/xgboost-win64_release_0.90/src/objective/regression_obj.cu:152: reg:linear is now deprecated in favor of reg:squarederror.\n",
      "[14:59:14] WARNING: C:/Jenkins/workspace/xgboost-win64_release_0.90/src/objective/regression_obj.cu:152: reg:linear is now deprecated in favor of reg:squarederror.\n",
      "[14:59:34] WARNING: C:/Jenkins/workspace/xgboost-win64_release_0.90/src/objective/regression_obj.cu:152: reg:linear is now deprecated in favor of reg:squarederror.\n",
      "[14:59:47] WARNING: C:/Jenkins/workspace/xgboost-win64_release_0.90/src/objective/regression_obj.cu:152: reg:linear is now deprecated in favor of reg:squarederror.\n",
      "[15:00:04] WARNING: C:/Jenkins/workspace/xgboost-win64_release_0.90/src/objective/regression_obj.cu:152: reg:linear is now deprecated in favor of reg:squarederror.\n",
      "[15:00:14] WARNING: C:/Jenkins/workspace/xgboost-win64_release_0.90/src/objective/regression_obj.cu:152: reg:linear is now deprecated in favor of reg:squarederror.\n",
      "[15:00:26] WARNING: C:/Jenkins/workspace/xgboost-win64_release_0.90/src/objective/regression_obj.cu:152: reg:linear is now deprecated in favor of reg:squarederror.\n",
      "[15:00:54] WARNING: C:/Jenkins/workspace/xgboost-win64_release_0.90/src/objective/regression_obj.cu:152: reg:linear is now deprecated in favor of reg:squarederror.\n",
      "[15:01:06] WARNING: C:/Jenkins/workspace/xgboost-win64_release_0.90/src/objective/regression_obj.cu:152: reg:linear is now deprecated in favor of reg:squarederror.\n",
      "[15:01:18] WARNING: C:/Jenkins/workspace/xgboost-win64_release_0.90/src/objective/regression_obj.cu:152: reg:linear is now deprecated in favor of reg:squarederror.\n",
      "[15:01:30] WARNING: C:/Jenkins/workspace/xgboost-win64_release_0.90/src/objective/regression_obj.cu:152: reg:linear is now deprecated in favor of reg:squarederror.\n",
      "[15:01:55] WARNING: C:/Jenkins/workspace/xgboost-win64_release_0.90/src/objective/regression_obj.cu:152: reg:linear is now deprecated in favor of reg:squarederror.\n",
      "=============================================================\n"
     ]
    }
   ],
   "source": [
    "optimizer.maximize(n_iter=100, init_points=10, acq='ei')"
   ]
  },
  {
   "cell_type": "code",
   "execution_count": 86,
   "metadata": {},
   "outputs": [
    {
     "data": {
      "text/plain": [
       "{'learning_rate': 0.02263482447357104,\n",
       " 'max_depth': 4.386710423594152,\n",
       " 'n_estimators': 410.3350559039915}"
      ]
     },
     "execution_count": 86,
     "metadata": {},
     "output_type": "execute_result"
    }
   ],
   "source": [
    "optimizer.max['params']"
   ]
  },
  {
   "cell_type": "code",
   "execution_count": 87,
   "metadata": {},
   "outputs": [],
   "source": [
    "params = optimizer.max['params']"
   ]
  },
  {
   "cell_type": "code",
   "execution_count": 88,
   "metadata": {},
   "outputs": [],
   "source": [
    "# Convert the max_depth and n_estimator values from float to int\n",
    "\n",
    "params['max_depth']= int(params['max_depth'])\n",
    "params['n_estimators']= int(params['n_estimators'])"
   ]
  },
  {
   "cell_type": "code",
   "execution_count": 89,
   "metadata": {},
   "outputs": [
    {
     "name": "stdout",
     "output_type": "stream",
     "text": [
      "[15:04:17] WARNING: C:/Jenkins/workspace/xgboost-win64_release_0.90/src/objective/regression_obj.cu:152: reg:linear is now deprecated in favor of reg:squarederror.\n"
     ]
    }
   ],
   "source": [
    "xgb = XGBRegressor(**params).fit(X_train,y_train)"
   ]
  },
  {
   "cell_type": "code",
   "execution_count": 90,
   "metadata": {},
   "outputs": [],
   "source": [
    "# Prediction to verify the score is better after tuning the parameters\n",
    "\n",
    "y_pred = xgb.predict(X_test)"
   ]
  },
  {
   "cell_type": "code",
   "execution_count": 91,
   "metadata": {},
   "outputs": [
    {
     "name": "stdout",
     "output_type": "stream",
     "text": [
      "R2 Score:  0.68\n",
      "Root Mean Squared Error:  352.92\n"
     ]
    }
   ],
   "source": [
    "print('R2 Score: ',np.round(r2_score(y_test, y_pred),3))\n",
    "print('Root Mean Squared Error: ',np.round(np.sqrt(mean_squared_error(y_test, y_pred)),3))"
   ]
  },
  {
   "cell_type": "markdown",
   "metadata": {},
   "source": [
    "#### According to our requirement, we can fit the model by tuning the parameters to get the desired performance metrics. Here we have used tuning to increase R2 score."
   ]
  },
  {
   "cell_type": "code",
   "execution_count": 92,
   "metadata": {},
   "outputs": [
    {
     "data": {
      "text/html": [
       "<div>\n",
       "<style scoped>\n",
       "    .dataframe tbody tr th:only-of-type {\n",
       "        vertical-align: middle;\n",
       "    }\n",
       "\n",
       "    .dataframe tbody tr th {\n",
       "        vertical-align: top;\n",
       "    }\n",
       "\n",
       "    .dataframe thead th {\n",
       "        text-align: right;\n",
       "    }\n",
       "</style>\n",
       "<table border=\"1\" class=\"dataframe\">\n",
       "  <thead>\n",
       "    <tr style=\"text-align: right;\">\n",
       "      <th></th>\n",
       "      <th>plant_id</th>\n",
       "      <th>datetime_utc</th>\n",
       "      <th>datetime_local</th>\n",
       "      <th>cloud_cover</th>\n",
       "      <th>apparent_temperature</th>\n",
       "      <th>temperature</th>\n",
       "      <th>humidity</th>\n",
       "      <th>dew_point</th>\n",
       "      <th>wind_bearing</th>\n",
       "      <th>wind_speed</th>\n",
       "      <th>...</th>\n",
       "      <th>precip_accumulation</th>\n",
       "      <th>precip_intensity</th>\n",
       "      <th>precip_probability</th>\n",
       "      <th>precip_type</th>\n",
       "      <th>visibility</th>\n",
       "      <th>sunrise</th>\n",
       "      <th>sunset</th>\n",
       "      <th>icon</th>\n",
       "      <th>summary</th>\n",
       "      <th>updated_at</th>\n",
       "    </tr>\n",
       "  </thead>\n",
       "  <tbody>\n",
       "    <tr>\n",
       "      <td>0</td>\n",
       "      <td>1</td>\n",
       "      <td>2019-09-30 18:30:00</td>\n",
       "      <td>2019-10-01 00:00:00</td>\n",
       "      <td>0.35</td>\n",
       "      <td>26.41</td>\n",
       "      <td>26</td>\n",
       "      <td>1</td>\n",
       "      <td>22.01</td>\n",
       "      <td>101</td>\n",
       "      <td>3.08</td>\n",
       "      <td>...</td>\n",
       "      <td>NaN</td>\n",
       "      <td>0.0</td>\n",
       "      <td>0.0</td>\n",
       "      <td>NaN</td>\n",
       "      <td>16.09</td>\n",
       "      <td>2019-10-01 00:51:47</td>\n",
       "      <td>2019-10-01 12:45:42</td>\n",
       "      <td>partly-cloudy-night</td>\n",
       "      <td>Partly Cloudy</td>\n",
       "      <td>2019-10-02 23:32:38</td>\n",
       "    </tr>\n",
       "    <tr>\n",
       "      <td>1</td>\n",
       "      <td>1</td>\n",
       "      <td>2019-09-30 19:30:00</td>\n",
       "      <td>2019-10-01 01:00:00</td>\n",
       "      <td>0.43</td>\n",
       "      <td>25.95</td>\n",
       "      <td>25</td>\n",
       "      <td>1</td>\n",
       "      <td>22.06</td>\n",
       "      <td>105</td>\n",
       "      <td>2.94</td>\n",
       "      <td>...</td>\n",
       "      <td>NaN</td>\n",
       "      <td>0.0</td>\n",
       "      <td>0.0</td>\n",
       "      <td>NaN</td>\n",
       "      <td>16.09</td>\n",
       "      <td>2019-10-01 00:51:47</td>\n",
       "      <td>2019-10-01 12:45:42</td>\n",
       "      <td>partly-cloudy-night</td>\n",
       "      <td>Partly Cloudy</td>\n",
       "      <td>2019-10-02 23:32:38</td>\n",
       "    </tr>\n",
       "    <tr>\n",
       "      <td>2</td>\n",
       "      <td>1</td>\n",
       "      <td>2019-09-30 20:30:00</td>\n",
       "      <td>2019-10-01 02:00:00</td>\n",
       "      <td>0.48</td>\n",
       "      <td>25.46</td>\n",
       "      <td>25</td>\n",
       "      <td>1</td>\n",
       "      <td>22.06</td>\n",
       "      <td>106</td>\n",
       "      <td>2.82</td>\n",
       "      <td>...</td>\n",
       "      <td>NaN</td>\n",
       "      <td>0.0</td>\n",
       "      <td>0.0</td>\n",
       "      <td>NaN</td>\n",
       "      <td>16.09</td>\n",
       "      <td>2019-10-01 00:51:47</td>\n",
       "      <td>2019-10-01 12:45:42</td>\n",
       "      <td>partly-cloudy-night</td>\n",
       "      <td>Partly Cloudy</td>\n",
       "      <td>2019-10-02 23:32:38</td>\n",
       "    </tr>\n",
       "  </tbody>\n",
       "</table>\n",
       "<p>3 rows × 30 columns</p>\n",
       "</div>"
      ],
      "text/plain": [
       "   plant_id         datetime_utc       datetime_local  cloud_cover  \\\n",
       "0         1  2019-09-30 18:30:00  2019-10-01 00:00:00         0.35   \n",
       "1         1  2019-09-30 19:30:00  2019-10-01 01:00:00         0.43   \n",
       "2         1  2019-09-30 20:30:00  2019-10-01 02:00:00         0.48   \n",
       "\n",
       "   apparent_temperature  temperature  humidity  dew_point  wind_bearing  \\\n",
       "0                 26.41           26         1      22.01           101   \n",
       "1                 25.95           25         1      22.06           105   \n",
       "2                 25.46           25         1      22.06           106   \n",
       "\n",
       "   wind_speed  ...  precip_accumulation  precip_intensity  precip_probability  \\\n",
       "0        3.08  ...                  NaN               0.0                 0.0   \n",
       "1        2.94  ...                  NaN               0.0                 0.0   \n",
       "2        2.82  ...                  NaN               0.0                 0.0   \n",
       "\n",
       "   precip_type  visibility              sunrise               sunset  \\\n",
       "0          NaN       16.09  2019-10-01 00:51:47  2019-10-01 12:45:42   \n",
       "1          NaN       16.09  2019-10-01 00:51:47  2019-10-01 12:45:42   \n",
       "2          NaN       16.09  2019-10-01 00:51:47  2019-10-01 12:45:42   \n",
       "\n",
       "                  icon        summary           updated_at  \n",
       "0  partly-cloudy-night  Partly Cloudy  2019-10-02 23:32:38  \n",
       "1  partly-cloudy-night  Partly Cloudy  2019-10-02 23:32:38  \n",
       "2  partly-cloudy-night  Partly Cloudy  2019-10-02 23:32:38  \n",
       "\n",
       "[3 rows x 30 columns]"
      ]
     },
     "execution_count": 92,
     "metadata": {},
     "output_type": "execute_result"
    }
   ],
   "source": [
    "# Let us check the weather_forecast table\n",
    "\n",
    "weather_forecast.head(3)"
   ]
  },
  {
   "cell_type": "code",
   "execution_count": 93,
   "metadata": {},
   "outputs": [
    {
     "data": {
      "text/plain": [
       "plant_id                  0\n",
       "datetime_utc              0\n",
       "datetime_local            0\n",
       "cloud_cover               0\n",
       "apparent_temperature      0\n",
       "temperature               0\n",
       "humidity                  0\n",
       "dew_point                 0\n",
       "wind_bearing              0\n",
       "wind_speed                0\n",
       "wind_chill              648\n",
       "wind_gust                 0\n",
       "heat_index              648\n",
       "pressure                  0\n",
       "qpf                     648\n",
       "uv_index                  0\n",
       "snow                    648\n",
       "pop                     648\n",
       "fctcode                 648\n",
       "ozone                     0\n",
       "precip_accumulation     648\n",
       "precip_intensity          0\n",
       "precip_probability        0\n",
       "precip_type             534\n",
       "visibility                0\n",
       "sunrise                   0\n",
       "sunset                    0\n",
       "icon                      0\n",
       "summary                   0\n",
       "updated_at                0\n",
       "dtype: int64"
      ]
     },
     "execution_count": 93,
     "metadata": {},
     "output_type": "execute_result"
    }
   ],
   "source": [
    "weather_forecast.isna().sum()"
   ]
  },
  {
   "cell_type": "markdown",
   "metadata": {},
   "source": [
    "#### We'll drop the table which have 100% missing values"
   ]
  },
  {
   "cell_type": "code",
   "execution_count": 94,
   "metadata": {},
   "outputs": [],
   "source": [
    "weather_forecast = weather_forecast.drop(['plant_id','updated_at','datetime_utc','wind_chill','heat_index','qpf','snow','pop',\n",
    "                                      'fctcode','precip_accumulation'], axis=1)"
   ]
  },
  {
   "cell_type": "code",
   "execution_count": 95,
   "metadata": {},
   "outputs": [],
   "source": [
    "# As we had done earlier, we'll extract hours and minutes from sunrise and sunset and drop them\n",
    "\n",
    "weather_forecast['sunrise'] = pd.to_datetime(weather_forecast['sunrise'])\n",
    "weather_forecast['sunset'] = pd.to_datetime(weather_forecast['sunset'])"
   ]
  },
  {
   "cell_type": "code",
   "execution_count": 96,
   "metadata": {},
   "outputs": [],
   "source": [
    "weather_forecast['sunrise_hour'] = weather_forecast['sunrise'].dt.hour\n",
    "weather_forecast['sunrise_minute'] = weather_forecast['sunrise'].dt.minute\n",
    "weather_forecast['sunset_hour'] = weather_forecast['sunset'].dt.hour\n",
    "weather_forecast['sunset_minute'] = weather_forecast['sunset'].dt.minute"
   ]
  },
  {
   "cell_type": "code",
   "execution_count": 97,
   "metadata": {},
   "outputs": [],
   "source": [
    "weather_forecast = weather_forecast.drop(['sunrise','sunset'], axis=1)"
   ]
  },
  {
   "cell_type": "code",
   "execution_count": 98,
   "metadata": {},
   "outputs": [],
   "source": [
    "# Fill the missing values with \"no rain\", as we had done earlier\n",
    "\n",
    "weather_forecast['precip_type'] = weather_forecast['precip_type'].fillna('no rain')"
   ]
  },
  {
   "cell_type": "code",
   "execution_count": 99,
   "metadata": {},
   "outputs": [
    {
     "data": {
      "text/plain": [
       "datetime_local          0\n",
       "cloud_cover             0\n",
       "apparent_temperature    0\n",
       "temperature             0\n",
       "humidity                0\n",
       "dew_point               0\n",
       "wind_bearing            0\n",
       "wind_speed              0\n",
       "wind_gust               0\n",
       "pressure                0\n",
       "uv_index                0\n",
       "ozone                   0\n",
       "precip_intensity        0\n",
       "precip_probability      0\n",
       "precip_type             0\n",
       "visibility              0\n",
       "icon                    0\n",
       "summary                 0\n",
       "sunrise_hour            0\n",
       "sunrise_minute          0\n",
       "sunset_hour             0\n",
       "sunset_minute           0\n",
       "dtype: int64"
      ]
     },
     "execution_count": 99,
     "metadata": {},
     "output_type": "execute_result"
    }
   ],
   "source": [
    "# confirm that there are no missing values\n",
    "\n",
    "weather_forecast.isna().sum()"
   ]
  },
  {
   "cell_type": "code",
   "execution_count": 100,
   "metadata": {},
   "outputs": [],
   "source": [
    "#weather_forecast['power'] = np.nan"
   ]
  },
  {
   "cell_type": "markdown",
   "metadata": {},
   "source": [
    "#### We'll divide the numerical & categorical columns, and apply scaling and label encoding on them respectively"
   ]
  },
  {
   "cell_type": "code",
   "execution_count": 101,
   "metadata": {},
   "outputs": [],
   "source": [
    "num_cols = weather_forecast[['cloud_cover', 'apparent_temperature', 'temperature', 'dew_point', 'wind_bearing', 'wind_speed',\n",
    "                                'wind_gust', 'pressure', 'uv_index', 'ozone', 'precip_intensity', 'precip_probability',\n",
    "                                'visibility', 'sunrise_hour', 'sunrise_minute', 'sunset_hour', 'sunset_minute']]"
   ]
  },
  {
   "cell_type": "code",
   "execution_count": 102,
   "metadata": {
    "scrolled": false
   },
   "outputs": [
    {
     "data": {
      "text/html": [
       "<div>\n",
       "<style scoped>\n",
       "    .dataframe tbody tr th:only-of-type {\n",
       "        vertical-align: middle;\n",
       "    }\n",
       "\n",
       "    .dataframe tbody tr th {\n",
       "        vertical-align: top;\n",
       "    }\n",
       "\n",
       "    .dataframe thead th {\n",
       "        text-align: right;\n",
       "    }\n",
       "</style>\n",
       "<table border=\"1\" class=\"dataframe\">\n",
       "  <thead>\n",
       "    <tr style=\"text-align: right;\">\n",
       "      <th></th>\n",
       "      <th>cloud_cover</th>\n",
       "      <th>apparent_temperature</th>\n",
       "      <th>temperature</th>\n",
       "      <th>dew_point</th>\n",
       "      <th>wind_bearing</th>\n",
       "      <th>wind_speed</th>\n",
       "      <th>wind_gust</th>\n",
       "      <th>pressure</th>\n",
       "      <th>uv_index</th>\n",
       "      <th>ozone</th>\n",
       "      <th>precip_intensity</th>\n",
       "      <th>precip_probability</th>\n",
       "      <th>visibility</th>\n",
       "      <th>sunrise_hour</th>\n",
       "      <th>sunrise_minute</th>\n",
       "      <th>sunset_hour</th>\n",
       "      <th>sunset_minute</th>\n",
       "    </tr>\n",
       "  </thead>\n",
       "  <tbody>\n",
       "    <tr>\n",
       "      <td>0</td>\n",
       "      <td>0.767213</td>\n",
       "      <td>-0.250906</td>\n",
       "      <td>-0.287422</td>\n",
       "      <td>1.998152</td>\n",
       "      <td>-0.371283</td>\n",
       "      <td>1.144739</td>\n",
       "      <td>1.930617</td>\n",
       "      <td>-1.523428</td>\n",
       "      <td>-0.649491</td>\n",
       "      <td>-2.228805</td>\n",
       "      <td>-0.237457</td>\n",
       "      <td>-0.370598</td>\n",
       "      <td>0.0</td>\n",
       "      <td>-0.894427</td>\n",
       "      <td>0.730658</td>\n",
       "      <td>0.0</td>\n",
       "      <td>1.71383</td>\n",
       "    </tr>\n",
       "    <tr>\n",
       "      <td>1</td>\n",
       "      <td>1.059958</td>\n",
       "      <td>-0.351058</td>\n",
       "      <td>-0.508096</td>\n",
       "      <td>2.011988</td>\n",
       "      <td>-0.336970</td>\n",
       "      <td>0.959546</td>\n",
       "      <td>1.839240</td>\n",
       "      <td>-1.630780</td>\n",
       "      <td>-0.649491</td>\n",
       "      <td>-2.073821</td>\n",
       "      <td>-0.237457</td>\n",
       "      <td>-0.370598</td>\n",
       "      <td>0.0</td>\n",
       "      <td>-0.894427</td>\n",
       "      <td>0.730658</td>\n",
       "      <td>0.0</td>\n",
       "      <td>1.71383</td>\n",
       "    </tr>\n",
       "    <tr>\n",
       "      <td>2</td>\n",
       "      <td>1.242923</td>\n",
       "      <td>-0.457741</td>\n",
       "      <td>-0.508096</td>\n",
       "      <td>2.011988</td>\n",
       "      <td>-0.328392</td>\n",
       "      <td>0.800809</td>\n",
       "      <td>1.708702</td>\n",
       "      <td>-1.804588</td>\n",
       "      <td>-0.649491</td>\n",
       "      <td>-1.887840</td>\n",
       "      <td>-0.237457</td>\n",
       "      <td>-0.370598</td>\n",
       "      <td>0.0</td>\n",
       "      <td>-0.894427</td>\n",
       "      <td>0.730658</td>\n",
       "      <td>0.0</td>\n",
       "      <td>1.71383</td>\n",
       "    </tr>\n",
       "  </tbody>\n",
       "</table>\n",
       "</div>"
      ],
      "text/plain": [
       "   cloud_cover  apparent_temperature  temperature  dew_point  wind_bearing  \\\n",
       "0     0.767213             -0.250906    -0.287422   1.998152     -0.371283   \n",
       "1     1.059958             -0.351058    -0.508096   2.011988     -0.336970   \n",
       "2     1.242923             -0.457741    -0.508096   2.011988     -0.328392   \n",
       "\n",
       "   wind_speed  wind_gust  pressure  uv_index     ozone  precip_intensity  \\\n",
       "0    1.144739   1.930617 -1.523428 -0.649491 -2.228805         -0.237457   \n",
       "1    0.959546   1.839240 -1.630780 -0.649491 -2.073821         -0.237457   \n",
       "2    0.800809   1.708702 -1.804588 -0.649491 -1.887840         -0.237457   \n",
       "\n",
       "   precip_probability  visibility  sunrise_hour  sunrise_minute  sunset_hour  \\\n",
       "0           -0.370598         0.0     -0.894427        0.730658          0.0   \n",
       "1           -0.370598         0.0     -0.894427        0.730658          0.0   \n",
       "2           -0.370598         0.0     -0.894427        0.730658          0.0   \n",
       "\n",
       "   sunset_minute  \n",
       "0        1.71383  \n",
       "1        1.71383  \n",
       "2        1.71383  "
      ]
     },
     "execution_count": 102,
     "metadata": {},
     "output_type": "execute_result"
    }
   ],
   "source": [
    "scaled2 = std.fit_transform(num_cols)\n",
    "num_cols_scaled = pd.DataFrame(scaled2, columns=num_cols.columns)\n",
    "num_cols_scaled.head(3)"
   ]
  },
  {
   "cell_type": "code",
   "execution_count": 103,
   "metadata": {},
   "outputs": [],
   "source": [
    "cat_cols = weather_forecast[['humidity', 'icon', 'summary', 'precip_type']]\n",
    "cat_col_names = ['humidity', 'icon', 'summary', 'precip_type']\n",
    "for i in cat_col_names :\n",
    "    cat_cols[i] = le.fit_transform(cat_cols[i])"
   ]
  },
  {
   "cell_type": "code",
   "execution_count": 104,
   "metadata": {},
   "outputs": [
    {
     "data": {
      "text/html": [
       "<div>\n",
       "<style scoped>\n",
       "    .dataframe tbody tr th:only-of-type {\n",
       "        vertical-align: middle;\n",
       "    }\n",
       "\n",
       "    .dataframe tbody tr th {\n",
       "        vertical-align: top;\n",
       "    }\n",
       "\n",
       "    .dataframe thead th {\n",
       "        text-align: right;\n",
       "    }\n",
       "</style>\n",
       "<table border=\"1\" class=\"dataframe\">\n",
       "  <thead>\n",
       "    <tr style=\"text-align: right;\">\n",
       "      <th></th>\n",
       "      <th>cloud_cover</th>\n",
       "      <th>apparent_temperature</th>\n",
       "      <th>temperature</th>\n",
       "      <th>dew_point</th>\n",
       "      <th>wind_bearing</th>\n",
       "      <th>wind_speed</th>\n",
       "      <th>wind_gust</th>\n",
       "      <th>pressure</th>\n",
       "      <th>uv_index</th>\n",
       "      <th>ozone</th>\n",
       "      <th>...</th>\n",
       "      <th>precip_probability</th>\n",
       "      <th>visibility</th>\n",
       "      <th>sunrise_hour</th>\n",
       "      <th>sunrise_minute</th>\n",
       "      <th>sunset_hour</th>\n",
       "      <th>sunset_minute</th>\n",
       "      <th>humidity</th>\n",
       "      <th>icon</th>\n",
       "      <th>summary</th>\n",
       "      <th>precip_type</th>\n",
       "    </tr>\n",
       "  </thead>\n",
       "  <tbody>\n",
       "    <tr>\n",
       "      <td>0</td>\n",
       "      <td>0.767213</td>\n",
       "      <td>-0.250906</td>\n",
       "      <td>-0.287422</td>\n",
       "      <td>1.998152</td>\n",
       "      <td>-0.371283</td>\n",
       "      <td>1.144739</td>\n",
       "      <td>1.930617</td>\n",
       "      <td>-1.523428</td>\n",
       "      <td>-0.649491</td>\n",
       "      <td>-2.228805</td>\n",
       "      <td>...</td>\n",
       "      <td>-0.370598</td>\n",
       "      <td>0.0</td>\n",
       "      <td>-0.894427</td>\n",
       "      <td>0.730658</td>\n",
       "      <td>0.0</td>\n",
       "      <td>1.71383</td>\n",
       "      <td>1</td>\n",
       "      <td>4</td>\n",
       "      <td>4</td>\n",
       "      <td>0</td>\n",
       "    </tr>\n",
       "    <tr>\n",
       "      <td>1</td>\n",
       "      <td>1.059958</td>\n",
       "      <td>-0.351058</td>\n",
       "      <td>-0.508096</td>\n",
       "      <td>2.011988</td>\n",
       "      <td>-0.336970</td>\n",
       "      <td>0.959546</td>\n",
       "      <td>1.839240</td>\n",
       "      <td>-1.630780</td>\n",
       "      <td>-0.649491</td>\n",
       "      <td>-2.073821</td>\n",
       "      <td>...</td>\n",
       "      <td>-0.370598</td>\n",
       "      <td>0.0</td>\n",
       "      <td>-0.894427</td>\n",
       "      <td>0.730658</td>\n",
       "      <td>0.0</td>\n",
       "      <td>1.71383</td>\n",
       "      <td>1</td>\n",
       "      <td>4</td>\n",
       "      <td>4</td>\n",
       "      <td>0</td>\n",
       "    </tr>\n",
       "    <tr>\n",
       "      <td>2</td>\n",
       "      <td>1.242923</td>\n",
       "      <td>-0.457741</td>\n",
       "      <td>-0.508096</td>\n",
       "      <td>2.011988</td>\n",
       "      <td>-0.328392</td>\n",
       "      <td>0.800809</td>\n",
       "      <td>1.708702</td>\n",
       "      <td>-1.804588</td>\n",
       "      <td>-0.649491</td>\n",
       "      <td>-1.887840</td>\n",
       "      <td>...</td>\n",
       "      <td>-0.370598</td>\n",
       "      <td>0.0</td>\n",
       "      <td>-0.894427</td>\n",
       "      <td>0.730658</td>\n",
       "      <td>0.0</td>\n",
       "      <td>1.71383</td>\n",
       "      <td>1</td>\n",
       "      <td>4</td>\n",
       "      <td>4</td>\n",
       "      <td>0</td>\n",
       "    </tr>\n",
       "  </tbody>\n",
       "</table>\n",
       "<p>3 rows × 21 columns</p>\n",
       "</div>"
      ],
      "text/plain": [
       "   cloud_cover  apparent_temperature  temperature  dew_point  wind_bearing  \\\n",
       "0     0.767213             -0.250906    -0.287422   1.998152     -0.371283   \n",
       "1     1.059958             -0.351058    -0.508096   2.011988     -0.336970   \n",
       "2     1.242923             -0.457741    -0.508096   2.011988     -0.328392   \n",
       "\n",
       "   wind_speed  wind_gust  pressure  uv_index     ozone  ...  \\\n",
       "0    1.144739   1.930617 -1.523428 -0.649491 -2.228805  ...   \n",
       "1    0.959546   1.839240 -1.630780 -0.649491 -2.073821  ...   \n",
       "2    0.800809   1.708702 -1.804588 -0.649491 -1.887840  ...   \n",
       "\n",
       "   precip_probability  visibility  sunrise_hour  sunrise_minute  sunset_hour  \\\n",
       "0           -0.370598         0.0     -0.894427        0.730658          0.0   \n",
       "1           -0.370598         0.0     -0.894427        0.730658          0.0   \n",
       "2           -0.370598         0.0     -0.894427        0.730658          0.0   \n",
       "\n",
       "   sunset_minute  humidity  icon  summary  precip_type  \n",
       "0        1.71383         1     4        4            0  \n",
       "1        1.71383         1     4        4            0  \n",
       "2        1.71383         1     4        4            0  \n",
       "\n",
       "[3 rows x 21 columns]"
      ]
     },
     "execution_count": 104,
     "metadata": {},
     "output_type": "execute_result"
    }
   ],
   "source": [
    "test_features = pd.concat([num_cols_scaled, cat_cols], axis=1)\n",
    "test_features.head(3)"
   ]
  },
  {
   "cell_type": "code",
   "execution_count": 105,
   "metadata": {},
   "outputs": [
    {
     "data": {
      "text/plain": [
       "(648, 21)"
      ]
     },
     "execution_count": 105,
     "metadata": {},
     "output_type": "execute_result"
    }
   ],
   "source": [
    "test_features.shape"
   ]
  },
  {
   "cell_type": "code",
   "execution_count": 106,
   "metadata": {},
   "outputs": [
    {
     "data": {
      "text/plain": [
       "(13619, 21)"
      ]
     },
     "execution_count": 106,
     "metadata": {},
     "output_type": "execute_result"
    }
   ],
   "source": [
    "train_features.shape"
   ]
  },
  {
   "cell_type": "markdown",
   "metadata": {},
   "source": [
    "#### Our model is ready to make the required predictions. We'll use the features of weather_forecast table to predict the power forecast for the same time period"
   ]
  },
  {
   "cell_type": "code",
   "execution_count": 107,
   "metadata": {},
   "outputs": [],
   "source": [
    "power_pred = xgb.predict(test_features)"
   ]
  },
  {
   "cell_type": "code",
   "execution_count": 108,
   "metadata": {},
   "outputs": [
    {
     "data": {
      "text/html": [
       "<div>\n",
       "<style scoped>\n",
       "    .dataframe tbody tr th:only-of-type {\n",
       "        vertical-align: middle;\n",
       "    }\n",
       "\n",
       "    .dataframe tbody tr th {\n",
       "        vertical-align: top;\n",
       "    }\n",
       "\n",
       "    .dataframe thead th {\n",
       "        text-align: right;\n",
       "    }\n",
       "</style>\n",
       "<table border=\"1\" class=\"dataframe\">\n",
       "  <thead>\n",
       "    <tr style=\"text-align: right;\">\n",
       "      <th></th>\n",
       "      <th>datetime_local</th>\n",
       "      <th>power</th>\n",
       "    </tr>\n",
       "  </thead>\n",
       "  <tbody>\n",
       "    <tr>\n",
       "      <td>0</td>\n",
       "      <td>2019-10-01 00:00:00</td>\n",
       "      <td>370.656982</td>\n",
       "    </tr>\n",
       "    <tr>\n",
       "      <td>1</td>\n",
       "      <td>2019-10-01 01:00:00</td>\n",
       "      <td>229.296127</td>\n",
       "    </tr>\n",
       "    <tr>\n",
       "      <td>2</td>\n",
       "      <td>2019-10-01 02:00:00</td>\n",
       "      <td>323.736572</td>\n",
       "    </tr>\n",
       "    <tr>\n",
       "      <td>3</td>\n",
       "      <td>2019-10-01 03:00:00</td>\n",
       "      <td>326.434967</td>\n",
       "    </tr>\n",
       "    <tr>\n",
       "      <td>4</td>\n",
       "      <td>2019-10-01 04:00:00</td>\n",
       "      <td>326.434967</td>\n",
       "    </tr>\n",
       "    <tr>\n",
       "      <td>5</td>\n",
       "      <td>2019-10-01 05:00:00</td>\n",
       "      <td>273.358368</td>\n",
       "    </tr>\n",
       "    <tr>\n",
       "      <td>6</td>\n",
       "      <td>2019-10-01 06:00:00</td>\n",
       "      <td>272.847229</td>\n",
       "    </tr>\n",
       "    <tr>\n",
       "      <td>7</td>\n",
       "      <td>2019-10-01 07:00:00</td>\n",
       "      <td>411.618896</td>\n",
       "    </tr>\n",
       "    <tr>\n",
       "      <td>8</td>\n",
       "      <td>2019-10-01 08:00:00</td>\n",
       "      <td>-85.768829</td>\n",
       "    </tr>\n",
       "    <tr>\n",
       "      <td>9</td>\n",
       "      <td>2019-10-01 09:00:00</td>\n",
       "      <td>287.428986</td>\n",
       "    </tr>\n",
       "  </tbody>\n",
       "</table>\n",
       "</div>"
      ],
      "text/plain": [
       "        datetime_local       power\n",
       "0  2019-10-01 00:00:00  370.656982\n",
       "1  2019-10-01 01:00:00  229.296127\n",
       "2  2019-10-01 02:00:00  323.736572\n",
       "3  2019-10-01 03:00:00  326.434967\n",
       "4  2019-10-01 04:00:00  326.434967\n",
       "5  2019-10-01 05:00:00  273.358368\n",
       "6  2019-10-01 06:00:00  272.847229\n",
       "7  2019-10-01 07:00:00  411.618896\n",
       "8  2019-10-01 08:00:00  -85.768829\n",
       "9  2019-10-01 09:00:00  287.428986"
      ]
     },
     "execution_count": 108,
     "metadata": {},
     "output_type": "execute_result"
    }
   ],
   "source": [
    "# Submit predictions in a dataframe\n",
    "\n",
    "power_forecast = pd.DataFrame({'datetime_local':weather_forecast.datetime_local, 'power':power_pred})\n",
    "power_forecast.head(10)"
   ]
  },
  {
   "cell_type": "code",
   "execution_count": 109,
   "metadata": {},
   "outputs": [],
   "source": [
    "# Save the predictions as a csv file \"power_forecast\"\n",
    "\n",
    "power_forecast.to_csv(\"E:/Work/Amaan/Jobs/reapplicationforthepostofmachinelearningengineer/power_forecast.csv\", index=None)"
   ]
  },
  {
   "cell_type": "markdown",
   "metadata": {},
   "source": [
    "#### ------------------------------------------------------------------------------------END OF NOTEBOOK-------------------------------------------------------------------------------------------------"
   ]
  }
 ],
 "metadata": {
  "kernelspec": {
   "display_name": "Python 3",
   "language": "python",
   "name": "python3"
  },
  "language_info": {
   "codemirror_mode": {
    "name": "ipython",
    "version": 3
   },
   "file_extension": ".py",
   "mimetype": "text/x-python",
   "name": "python",
   "nbconvert_exporter": "python",
   "pygments_lexer": "ipython3",
   "version": "3.7.4"
  }
 },
 "nbformat": 4,
 "nbformat_minor": 2
}
